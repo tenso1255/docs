{
  "nbformat": 4,
  "nbformat_minor": 0,
  "metadata": {
    "colab": {
      "name": "boosted_trees.ipynb",
      "version": "0.3.2",
      "provenance": [],
      "collapsed_sections": [],
      "toc_visible": true
    },
    "kernelspec": {
      "display_name": "Python 3",
      "name": "python3"
    }
  },
  "cells": [
    {
      "metadata": {
        "colab_type": "text",
        "id": "7765UFHoyGx6"
      },
      "cell_type": "markdown",
      "source": [
        "##### Copyright 2019 The TensorFlow Authors."
      ]
    },
    {
      "metadata": {
        "cellView": "form",
        "colab_type": "code",
        "id": "KVtTDrUNyL7x",
        "colab": {}
      },
      "cell_type": "code",
      "source": [
        "#@title Licensed under the Apache License, Version 2.0 (the \"License\");\n",
        "# you may not use this file except in compliance with the License.\n",
        "# You may obtain a copy of the License at\n",
        "#\n",
        "# https://www.apache.org/licenses/LICENSE-2.0\n",
        "#\n",
        "# Unless required by applicable law or agreed to in writing, software\n",
        "# distributed under the License is distributed on an \"AS IS\" BASIS,\n",
        "# WITHOUT WARRANTIES OR CONDITIONS OF ANY KIND, either express or implied.\n",
        "# See the License for the specific language governing permissions and\n",
        "# limitations under the License."
      ],
      "execution_count": 0,
      "outputs": []
    },
    {
      "metadata": {
        "colab_type": "text",
        "id": "xPYxZMrWyA0N"
      },
      "cell_type": "markdown",
      "source": [
        "#How to train Boosted Trees models in TensorFlow"
      ]
    },
    {
      "metadata": {
        "colab_type": "text",
        "id": "p_vOREjRx-Y0"
      },
      "cell_type": "markdown",
      "source": [
        "<table class=\"tfo-notebook-buttons\" align=\"left\">\n",
        "  <td>\n",
        "    <a target=\"_blank\" href=\"https://www.tensorflow.org/tutorials/estimators/boosted_trees\"><img src=\"https://www.tensorflow.org/images/tf_logo_32px.png\" />View on TensorFlow.org</a>\n",
        "  </td>\n",
        "  <td>\n",
        "    <a target=\"_blank\" href=\"https://colab.research.google.com/github/tensorflow/docs/blob/master/site/en/tutorials/estimators/boosted_trees.ipynb\"><img src=\"https://www.tensorflow.org/images/colab_logo_32px.png\" />Run in Google Colab</a>\n",
        "  </td>\n",
        "  <td>\n",
        "    <a target=\"_blank\" href=\"https://github.com/tensorflow/docs/tree/master/site/en/tutorials/estimators/boosted_trees.ipynb\"><img src=\"https://www.tensorflow.org/images/GitHub-Mark-32px.png\">View source on GitHub</a>\n",
        "  </td>\n",
        "</table>"
      ]
    },
    {
      "metadata": {
        "id": "2dek7UR088TO",
        "colab_type": "text"
      },
      "cell_type": "markdown",
      "source": [
        "Note: これらのドキュメントは私たちTensorFlowコミュニティが翻訳したものです。コミュニティによる 翻訳は**ベストエフォート**であるため、この翻訳が正確であることや[英語の公式ドキュメント](https://www.tensorflow.org/?hl=en)の 最新の状態を反映したものであることを保証することはできません。 この翻訳の品質を向上させるためのご意見をお持ちの方は、GitHubリポジトリ[tensorflow/docs](https://github.com/tensorflow/docs)にプルリクエストをお送りください。 コミュニティによる翻訳やレビューに参加していただける方は、 [docs-ja@tensorflow.org メーリングリスト](https://groups.google.com/a/tensorflow.org/forum/#!forum/docs-ja)にご連絡ください。"
      ]
    },
    {
      "metadata": {
        "colab_type": "text",
        "id": "dW3r7qVxzqN5"
      },
      "cell_type": "markdown",
      "source": [
        "このチュートリアルでは、決定木 (decision tree) を用いた勾配ブースティング (Gradient Boosting) モデルの`tf.estimator` APIによる学習について、最初から最後まで一通りの手順を行います。勾配ブースティング木は回帰問題にも分類問題にも適用できる機械学習の手法であり、非情に性能が高く、また広く知られているものです。この手法はアンサンブル学習と呼ばれるテクニックの一つで、それぞれの(数十、数百、数千の)決定木モデルを組み合わせて使う方法です。\n",
        "\n",
        "勾配ブースティング木は機械学習を実践する人にとって広く用いられるもので、ハイパーパラメータチューニングが小規模であるにもかかわらず、目覚ましい成果が挙げられています。"
      ]
    },
    {
      "metadata": {
        "colab_type": "text",
        "id": "eylrTPAN3rJV"
      },
      "cell_type": "markdown",
      "source": [
        "## タイタニックデータセットの読み込み\n",
        "\n",
        "ここではタイタニック号のデータセットを用いて、乗客の性別、年齢、チケットの等級といった情報から、その乗客が生き延びたかどうかの予測を行います。"
      ]
    },
    {
      "metadata": {
        "colab_type": "code",
        "id": "KuhAiPfZ3rJW",
        "colab": {}
      },
      "cell_type": "code",
      "source": [
        "from __future__ import absolute_import, division, print_function, unicode_literals\n",
        "\n",
        "from matplotlib import pyplot as plt\n",
        "\n",
        "import numpy as np\n",
        "import pandas as pd\n",
        "import tensorflow as tf\n",
        "\n",
        "tf.enable_eager_execution()\n",
        "\n",
        "tf.logging.set_verbosity(tf.logging.ERROR)\n",
        "tf.set_random_seed(123)\n",
        "\n",
        "# データセットの読み込み\n",
        "dftrain = pd.read_csv('https://storage.googleapis.com/tfbt/titanic_train.csv')\n",
        "dfeval = pd.read_csv('https://storage.googleapis.com/tfbt/titanic_eval.csv')\n",
        "y_train = dftrain.pop('survived')\n",
        "y_eval = dfeval.pop('survived')"
      ],
      "execution_count": 0,
      "outputs": []
    },
    {
      "metadata": {
        "colab_type": "text",
        "id": "3ioodHdVJVdA"
      },
      "cell_type": "markdown",
      "source": [
        "このデータセットでは学習データと評価データの両方のデータが含まれています。内訳は次のとおりです。\n",
        "\n",
        "\n",
        "* `dftrain` と `y_train` は *学習データ*です —これらを用いてモデルを学習させます。\n",
        "* `dfeval`と`y_eval`は*評価データ*です —これらのデータは学習済みモデルの評価に使います。\n",
        "\n",
        "モデルの学習に利用する特徴量は次のとおりです。\n",
        "\n",
        "<table>\n",
        "  <tr>\n",
        "    <th>特徴量</th>\n",
        "    <th>詳細</th>\n",
        "  </tr>\n",
        "  <tr>\n",
        "    <td>sex</td>\n",
        "    <td>乗客の性別</td>\n",
        "  </tr>\n",
        "  <tr>\n",
        "    <td>age</td>\n",
        "    <td>乗客の年齢</td>\n",
        "  </tr>\n",
        "    <tr>\n",
        "    <td>n_siblings_spouses</td>\n",
        "    <td>同乗する配偶者や兄弟/姉妹の数</td>\n",
        "  </tr>\n",
        "    <tr>\n",
        "    <td>parch</td>\n",
        "    <td>同乗する両親や子供の数</td>\n",
        "  </tr>\n",
        "    <tr>\n",
        "    <td>fare</td>\n",
        "    <td>料金</td>\n",
        "  </tr>\n",
        "    <tr>\n",
        "    <td>class</td>\n",
        "    <td>等級</td>\n",
        "  </tr>\n",
        "    <tr>\n",
        "    <td>deck</td>\n",
        "    <td>デッキ(船内の各階層)</td>\n",
        "  </tr>\n",
        "    <tr>\n",
        "    <td>embark_town</td>\n",
        "    <td>乗船した港</td>\n",
        "  </tr>\n",
        "    <tr>\n",
        "    <td>alone</td>\n",
        "    <td>乗客が一人だけかどうか</td>\n",
        "  </tr>\n",
        "</table>"
      ]
    },
    {
      "metadata": {
        "colab_type": "text",
        "id": "AoPiWsJALr-k"
      },
      "cell_type": "markdown",
      "source": [
        "## データの探索"
      ]
    },
    {
      "metadata": {
        "colab_type": "text",
        "id": "slcat1yzmzw5"
      },
      "cell_type": "markdown",
      "source": [
        "まず学習データから最初のいくつかのデータを確認し、次に学習データの基本統計量を作成しましょう。\n"
      ]
    },
    {
      "metadata": {
        "colab_type": "code",
        "id": "15PLelXBlxEW",
        "outputId": "f2c895e3-fce4-40d2-a8d5-82171a85046d",
        "colab": {
          "base_uri": "https://localhost:8080/",
          "height": 204
        }
      },
      "cell_type": "code",
      "source": [
        "dftrain.head()"
      ],
      "execution_count": 4,
      "outputs": [
        {
          "output_type": "execute_result",
          "data": {
            "text/html": [
              "<div>\n",
              "<style scoped>\n",
              "    .dataframe tbody tr th:only-of-type {\n",
              "        vertical-align: middle;\n",
              "    }\n",
              "\n",
              "    .dataframe tbody tr th {\n",
              "        vertical-align: top;\n",
              "    }\n",
              "\n",
              "    .dataframe thead th {\n",
              "        text-align: right;\n",
              "    }\n",
              "</style>\n",
              "<table border=\"1\" class=\"dataframe\">\n",
              "  <thead>\n",
              "    <tr style=\"text-align: right;\">\n",
              "      <th></th>\n",
              "      <th>sex</th>\n",
              "      <th>age</th>\n",
              "      <th>n_siblings_spouses</th>\n",
              "      <th>parch</th>\n",
              "      <th>fare</th>\n",
              "      <th>class</th>\n",
              "      <th>deck</th>\n",
              "      <th>embark_town</th>\n",
              "      <th>alone</th>\n",
              "    </tr>\n",
              "  </thead>\n",
              "  <tbody>\n",
              "    <tr>\n",
              "      <th>0</th>\n",
              "      <td>male</td>\n",
              "      <td>22.0</td>\n",
              "      <td>1</td>\n",
              "      <td>0</td>\n",
              "      <td>7.2500</td>\n",
              "      <td>Third</td>\n",
              "      <td>unknown</td>\n",
              "      <td>Southampton</td>\n",
              "      <td>n</td>\n",
              "    </tr>\n",
              "    <tr>\n",
              "      <th>1</th>\n",
              "      <td>female</td>\n",
              "      <td>38.0</td>\n",
              "      <td>1</td>\n",
              "      <td>0</td>\n",
              "      <td>71.2833</td>\n",
              "      <td>First</td>\n",
              "      <td>C</td>\n",
              "      <td>Cherbourg</td>\n",
              "      <td>n</td>\n",
              "    </tr>\n",
              "    <tr>\n",
              "      <th>2</th>\n",
              "      <td>female</td>\n",
              "      <td>26.0</td>\n",
              "      <td>0</td>\n",
              "      <td>0</td>\n",
              "      <td>7.9250</td>\n",
              "      <td>Third</td>\n",
              "      <td>unknown</td>\n",
              "      <td>Southampton</td>\n",
              "      <td>y</td>\n",
              "    </tr>\n",
              "    <tr>\n",
              "      <th>3</th>\n",
              "      <td>female</td>\n",
              "      <td>35.0</td>\n",
              "      <td>1</td>\n",
              "      <td>0</td>\n",
              "      <td>53.1000</td>\n",
              "      <td>First</td>\n",
              "      <td>C</td>\n",
              "      <td>Southampton</td>\n",
              "      <td>n</td>\n",
              "    </tr>\n",
              "    <tr>\n",
              "      <th>4</th>\n",
              "      <td>male</td>\n",
              "      <td>28.0</td>\n",
              "      <td>0</td>\n",
              "      <td>0</td>\n",
              "      <td>8.4583</td>\n",
              "      <td>Third</td>\n",
              "      <td>unknown</td>\n",
              "      <td>Queenstown</td>\n",
              "      <td>y</td>\n",
              "    </tr>\n",
              "  </tbody>\n",
              "</table>\n",
              "</div>"
            ],
            "text/plain": [
              "      sex   age  n_siblings_spouses  parch     fare  class     deck  \\\n",
              "0    male  22.0                   1      0   7.2500  Third  unknown   \n",
              "1  female  38.0                   1      0  71.2833  First        C   \n",
              "2  female  26.0                   0      0   7.9250  Third  unknown   \n",
              "3  female  35.0                   1      0  53.1000  First        C   \n",
              "4    male  28.0                   0      0   8.4583  Third  unknown   \n",
              "\n",
              "   embark_town alone  \n",
              "0  Southampton     n  \n",
              "1    Cherbourg     n  \n",
              "2  Southampton     y  \n",
              "3  Southampton     n  \n",
              "4   Queenstown     y  "
            ]
          },
          "metadata": {
            "tags": []
          },
          "execution_count": 4
        }
      ]
    },
    {
      "metadata": {
        "colab_type": "code",
        "id": "j2hiM4ETmqP0",
        "outputId": "c7338068-77b0-4166-973c-1dba0e4dcca8",
        "colab": {
          "base_uri": "https://localhost:8080/",
          "height": 297
        }
      },
      "cell_type": "code",
      "source": [
        "dftrain.describe()"
      ],
      "execution_count": 5,
      "outputs": [
        {
          "output_type": "execute_result",
          "data": {
            "text/html": [
              "<div>\n",
              "<style scoped>\n",
              "    .dataframe tbody tr th:only-of-type {\n",
              "        vertical-align: middle;\n",
              "    }\n",
              "\n",
              "    .dataframe tbody tr th {\n",
              "        vertical-align: top;\n",
              "    }\n",
              "\n",
              "    .dataframe thead th {\n",
              "        text-align: right;\n",
              "    }\n",
              "</style>\n",
              "<table border=\"1\" class=\"dataframe\">\n",
              "  <thead>\n",
              "    <tr style=\"text-align: right;\">\n",
              "      <th></th>\n",
              "      <th>age</th>\n",
              "      <th>n_siblings_spouses</th>\n",
              "      <th>parch</th>\n",
              "      <th>fare</th>\n",
              "    </tr>\n",
              "  </thead>\n",
              "  <tbody>\n",
              "    <tr>\n",
              "      <th>count</th>\n",
              "      <td>627.000000</td>\n",
              "      <td>627.000000</td>\n",
              "      <td>627.000000</td>\n",
              "      <td>627.000000</td>\n",
              "    </tr>\n",
              "    <tr>\n",
              "      <th>mean</th>\n",
              "      <td>29.631308</td>\n",
              "      <td>0.545455</td>\n",
              "      <td>0.379585</td>\n",
              "      <td>34.385399</td>\n",
              "    </tr>\n",
              "    <tr>\n",
              "      <th>std</th>\n",
              "      <td>12.511818</td>\n",
              "      <td>1.151090</td>\n",
              "      <td>0.792999</td>\n",
              "      <td>54.597730</td>\n",
              "    </tr>\n",
              "    <tr>\n",
              "      <th>min</th>\n",
              "      <td>0.750000</td>\n",
              "      <td>0.000000</td>\n",
              "      <td>0.000000</td>\n",
              "      <td>0.000000</td>\n",
              "    </tr>\n",
              "    <tr>\n",
              "      <th>25%</th>\n",
              "      <td>23.000000</td>\n",
              "      <td>0.000000</td>\n",
              "      <td>0.000000</td>\n",
              "      <td>7.895800</td>\n",
              "    </tr>\n",
              "    <tr>\n",
              "      <th>50%</th>\n",
              "      <td>28.000000</td>\n",
              "      <td>0.000000</td>\n",
              "      <td>0.000000</td>\n",
              "      <td>15.045800</td>\n",
              "    </tr>\n",
              "    <tr>\n",
              "      <th>75%</th>\n",
              "      <td>35.000000</td>\n",
              "      <td>1.000000</td>\n",
              "      <td>0.000000</td>\n",
              "      <td>31.387500</td>\n",
              "    </tr>\n",
              "    <tr>\n",
              "      <th>max</th>\n",
              "      <td>80.000000</td>\n",
              "      <td>8.000000</td>\n",
              "      <td>5.000000</td>\n",
              "      <td>512.329200</td>\n",
              "    </tr>\n",
              "  </tbody>\n",
              "</table>\n",
              "</div>"
            ],
            "text/plain": [
              "              age  n_siblings_spouses       parch        fare\n",
              "count  627.000000          627.000000  627.000000  627.000000\n",
              "mean    29.631308            0.545455    0.379585   34.385399\n",
              "std     12.511818            1.151090    0.792999   54.597730\n",
              "min      0.750000            0.000000    0.000000    0.000000\n",
              "25%     23.000000            0.000000    0.000000    7.895800\n",
              "50%     28.000000            0.000000    0.000000   15.045800\n",
              "75%     35.000000            1.000000    0.000000   31.387500\n",
              "max     80.000000            8.000000    5.000000  512.329200"
            ]
          },
          "metadata": {
            "tags": []
          },
          "execution_count": 5
        }
      ]
    },
    {
      "metadata": {
        "colab_type": "text",
        "id": "-IR0e8V-LyJ4"
      },
      "cell_type": "markdown",
      "source": [
        "学習データには627個、評価データには264個のデータが含まれているはずです。\n"
      ]
    },
    {
      "metadata": {
        "colab_type": "code",
        "id": "_1NwYqGwDjFf",
        "outputId": "13f45739-e9ab-4c2c-f06d-c31314b38ff7",
        "colab": {
          "base_uri": "https://localhost:8080/",
          "height": 34
        }
      },
      "cell_type": "code",
      "source": [
        "dftrain.shape[0], dfeval.shape[0]"
      ],
      "execution_count": 6,
      "outputs": [
        {
          "output_type": "execute_result",
          "data": {
            "text/plain": [
              "(627, 264)"
            ]
          },
          "metadata": {
            "tags": []
          },
          "execution_count": 6
        }
      ]
    },
    {
      "metadata": {
        "colab_type": "text",
        "id": "28UFJ4KSMK3V"
      },
      "cell_type": "markdown",
      "source": [
        "乗客の多数は、年齢が20代から30代です。\n"
      ]
    },
    {
      "metadata": {
        "colab_type": "code",
        "id": "CaVDmZtuDfux",
        "outputId": "2fee4320-cb5c-4e77-e6a5-aeaaca975f74",
        "colab": {
          "base_uri": "https://localhost:8080/",
          "height": 269
        }
      },
      "cell_type": "code",
      "source": [
        "dftrain.age.hist(bins=20)\n",
        "plt.show()"
      ],
      "execution_count": 7,
      "outputs": [
        {
          "output_type": "display_data",
          "data": {
            "image/png": "[encoded data removed]",
            "text/plain": [
              "<Figure size 432x288 with 1 Axes>"
            ]
          },
          "metadata": {
            "tags": []
          }
        }
      ]
    },
    {
      "metadata": {
        "colab_type": "text",
        "id": "1pifWiCoMbR5"
      },
      "cell_type": "markdown",
      "source": [
        "乗客のうち男性は、女性の概ね二倍程度乗船していました。\n"
      ]
    },
    {
      "metadata": {
        "colab_type": "code",
        "id": "-WazAq30MO5J",
        "outputId": "b63b2756-2319-430d-ed0f-dc4235e07128",
        "colab": {
          "base_uri": "https://localhost:8080/",
          "height": 269
        }
      },
      "cell_type": "code",
      "source": [
        "dftrain.sex.value_counts().plot(kind='barh')\n",
        "plt.show()"
      ],
      "execution_count": 10,
      "outputs": [
        {
          "output_type": "display_data",
          "data": {
            "image/png": "[encoded data removed]",
            "text/plain": [
              "<Figure size 432x288 with 1 Axes>"
            ]
          },
          "metadata": {
            "tags": []
          }
        }
      ]
    },
    {
      "metadata": {
        "colab_type": "text",
        "id": "7_XkxrpmmVU_"
      },
      "cell_type": "markdown",
      "source": [
        "乗客の客室の区分では、3等級が最も多かったです。"
      ]
    },
    {
      "metadata": {
        "colab_type": "code",
        "id": "zZ3PvVy4l4gI",
        "outputId": "32968da4-e263-477b-b285-ea523f444929",
        "colab": {
          "base_uri": "https://localhost:8080/",
          "height": 269
        }
      },
      "cell_type": "code",
      "source": [
        "(dftrain['class']\n",
        "  .value_counts()\n",
        "  .plot(kind='barh'))\n",
        "plt.show()"
      ],
      "execution_count": 0,
      "outputs": [
        {
          "output_type": "display_data",
          "data": {
            "image/png": "[encoded data removed]",
            "text/plain": [
              "<Figure size 432x288 with 1 Axes>"
            ]
          },
          "metadata": {
            "tags": []
          }
        }
      ]
    },
    {
      "metadata": {
        "colab_type": "text",
        "id": "HM5SlwlxmZMT"
      },
      "cell_type": "markdown",
      "source": [
        "大半の乗客はサウサンプトン(Southampton)から乗船しました。\n"
      ]
    },
    {
      "metadata": {
        "colab_type": "code",
        "id": "RVTSrdr4mZaC",
        "outputId": "5f2ef25f-1481-4e56-bafd-9532e6e312bd",
        "colab": {
          "base_uri": "https://localhost:8080/",
          "height": 269
        }
      },
      "cell_type": "code",
      "source": [
        "(dftrain['embark_town']\n",
        "  .value_counts()\n",
        "  .plot(kind='barh'))\n",
        "plt.show()"
      ],
      "execution_count": 9,
      "outputs": [
        {
          "output_type": "display_data",
          "data": {
            "image/png": "[encoded data removed]",
            "text/plain": [
              "<Figure size 432x288 with 1 Axes>"
            ]
          },
          "metadata": {
            "tags": []
          }
        }
      ]
    },
    {
      "metadata": {
        "colab_type": "text",
        "id": "aTn1niLPob3x"
      },
      "cell_type": "markdown",
      "source": [
        "女性は男性と比較して生存する可能性がかなり高かったようです。これはモデルが予測する特徴量から確認できるでしょう。\n"
      ]
    },
    {
      "metadata": {
        "colab_type": "code",
        "id": "Eh3KW5oYkaNS",
        "outputId": "9764ab08-7104-43af-fbd0-cabb6cc21ea5",
        "colab": {
          "base_uri": "https://localhost:8080/",
          "height": 283
        }
      },
      "cell_type": "code",
      "source": [
        "ax = (pd.concat([dftrain, y_train], axis=1)\\\n",
        "  .groupby('sex')\n",
        "  .survived\n",
        "  .mean()\n",
        "  .plot(kind='barh'))\n",
        "ax.set_xlabel('% survive')\n",
        "plt.show()"
      ],
      "execution_count": 0,
      "outputs": [
        {
          "output_type": "display_data",
          "data": {
            "image/png": "[encoded data removed]",
            "text/plain": [
              "<Figure size 432x288 with 1 Axes>"
            ]
          },
          "metadata": {
            "tags": []
          }
        }
      ]
    },
    {
      "metadata": {
        "colab_type": "text",
        "id": "krkRHuMp3rJn"
      },
      "cell_type": "markdown",
      "source": [
        "## 特徴量とinput functionの作成\n",
        "\n",
        "勾配ブースティングは特徴量として数値とカテゴリカル変数の両方を扱えます。\n",
        "モデルで利用する特徴量を定義するために、feature column(訳注`tf.feature_column`のこと)を利用できます。feature columnはTensorFlowのestimatorと同時に利用できます。また、feature columnはone-hot-encoding, normalization, bucketizationのような特徴量エンジニアリングで用いられる機能を提供します。このチュートリアルでは`CATEGORICAL_COLUMNS`で定義したフィールドをカテゴリカル変数からone-hot-encoding([indicator column](https://www.tensorflow.org/api_docs/python/tf/feature_column/indicator_column))に変換して扱います :"
      ]
    },
    {
      "metadata": {
        "colab_type": "code",
        "id": "upaNWxcF3rJn",
        "colab": {}
      },
      "cell_type": "code",
      "source": [
        "fc = tf.feature_column\n",
        "CATEGORICAL_COLUMNS = ['sex', 'n_siblings_spouses', 'parch', 'class', 'deck',\n",
        "                       'embark_town', 'alone']\n",
        "NUMERIC_COLUMNS = ['age', 'fare']\n",
        "\n",
        "def one_hot_cat_column(feature_name, vocab):\n",
        "  return fc.indicator_column(\n",
        "      fc.categorical_column_with_vocabulary_list(feature_name,\n",
        "                                                 vocab))\n",
        "feature_columns = []\n",
        "for feature_name in CATEGORICAL_COLUMNS:\n",
        "  # カテゴリカルな特徴量について、one-hot encodeが必要\n",
        "  vocabulary = dftrain[feature_name].unique()\n",
        "  feature_columns.append(one_hot_cat_column(feature_name, vocabulary))\n",
        "\n",
        "for feature_name in NUMERIC_COLUMNS:\n",
        "  feature_columns.append(fc.numeric_column(feature_name,\n",
        "                                           dtype=tf.float32))"
      ],
      "execution_count": 0,
      "outputs": []
    },
    {
      "metadata": {
        "colab_type": "text",
        "id": "74GNtFpStSAz"
      },
      "cell_type": "markdown",
      "source": [
        "feature columnが変換した結果を確認できます。次の例では1行だけを`indicator_column`で変換した結果を出力しています。\n"
      ]
    },
    {
      "metadata": {
        "colab_type": "code",
        "id": "Eaq79D9FtmF8",
        "outputId": "9dd04218-5ed2-45af-dc52-28339864706e",
        "colab": {
          "base_uri": "https://localhost:8080/",
          "height": 51
        }
      },
      "cell_type": "code",
      "source": [
        "example = dftrain.head(1)\n",
        "class_fc = one_hot_cat_column('class', ('First', 'Second', 'Third'))\n",
        "print('Feature value: \"{}\"'.format(example['class'].iloc[0]))\n",
        "print('One-hot encoded: ', fc.input_layer(dict(example), [class_fc]).numpy())"
      ],
      "execution_count": 12,
      "outputs": [
        {
          "output_type": "stream",
          "text": [
            "Feature value: \"Third\"\n",
            "One-hot encoded:  [[0. 0. 1.]]\n"
          ],
          "name": "stdout"
        }
      ]
    },
    {
      "metadata": {
        "colab_type": "text",
        "id": "YbCUn3nCusC3"
      },
      "cell_type": "markdown",
      "source": [
        "また、全ての変換後の特徴量を一度に確認することもできます。"
      ]
    },
    {
      "metadata": {
        "colab_type": "code",
        "id": "omIYcsVws3g0",
        "outputId": "f3a86d09-c3a1-4f3e-97e3-7b45aa3b56d5",
        "colab": {
          "base_uri": "https://localhost:8080/",
          "height": 85
        }
      },
      "cell_type": "code",
      "source": [
        "fc.input_layer(dict(example), feature_columns).numpy()"
      ],
      "execution_count": 13,
      "outputs": [
        {
          "output_type": "execute_result",
          "data": {
            "text/plain": [
              "array([[22.  ,  1.  ,  0.  ,  1.  ,  0.  ,  0.  ,  1.  ,  0.  ,  0.  ,\n",
              "         0.  ,  0.  ,  0.  ,  0.  ,  0.  ,  1.  ,  0.  ,  0.  ,  0.  ,\n",
              "         7.25,  1.  ,  0.  ,  0.  ,  0.  ,  0.  ,  0.  ,  0.  ,  1.  ,\n",
              "         0.  ,  0.  ,  0.  ,  0.  ,  0.  ,  1.  ,  0.  ]], dtype=float32)"
            ]
          },
          "metadata": {
            "tags": []
          },
          "execution_count": 13
        }
      ]
    },
    {
      "metadata": {
        "colab_type": "text",
        "id": "-UOlROp33rJo"
      },
      "cell_type": "markdown",
      "source": [
        "次に、input functionを作成する必要があります。\n",
        "これは作成するモデルが学習時・推論時に読み込むデータを指定するものです。\n",
        "Pandasで扱っているデータを読み込ませて使う場合には、[`tf.data`](https://www.tensorflow.org/api_docs/python/tf/data) API の`from_tensor_slices`を利用できます。この方法はメモリ上に乗る比較的小さなデータセットに適するでしょう。大きなデータセットに対しては、\n",
        "メモリ上に乗らないような場合であっても処理できるように、tf.data APIは([csv](https://www.tensorflow.org/api_docs/python/tf/data/experimental/make_csv_dataset)を含む)様々なファイルフォーマットをサポートしています。"
      ]
    },
    {
      "metadata": {
        "colab_type": "code",
        "id": "9dquwCQB3rJp",
        "colab": {}
      },
      "cell_type": "code",
      "source": [
        "# 小さなデータセットなので、全体を一度に利用\n",
        "NUM_EXAMPLES = len(y_train)\n",
        "\n",
        "def make_input_fn(X, y, n_epochs=None, shuffle=True):\n",
        "  def input_fn():\n",
        "    dataset = tf.data.Dataset.from_tensor_slices((dict(X), y))\n",
        "    if shuffle:\n",
        "      dataset = dataset.shuffle(NUM_EXAMPLES)\n",
        "    # 学習では、データセットを必要なだけ繰り返し (n_epochs=None).\n",
        "    dataset = dataset.repeat(n_epochs)\n",
        "    # メモリ上に乗る場合、バッチへの分割は不要\n",
        "    dataset = dataset.batch(NUM_EXAMPLES)\n",
        "    return dataset\n",
        "  return input_fn\n",
        "\n",
        "# 学習用と評価用のinput functionを用意\n",
        "train_input_fn = make_input_fn(dftrain, y_train)\n",
        "eval_input_fn = make_input_fn(dfeval, y_eval, shuffle=False, n_epochs=1)"
      ],
      "execution_count": 0,
      "outputs": []
    },
    {
      "metadata": {
        "colab_type": "text",
        "id": "HttfNNlN3rJr"
      },
      "cell_type": "markdown",
      "source": [
        "## モデルの学習と評価\n",
        "\n",
        "次のステップを順に実行します : \n",
        "1. モデルを初期化し、特徴量とハイパーパラメータを指定します\n",
        "2. `train_input_fn`を用いて学習データをモデルに読み込ませ、`train`関数を用いてモデルを学習させます\n",
        "3. 評価データ―― ここでは`dfeval` DataFrame――を用いてモデルのパフォーマンスを評価します。予測結果と配列`y_eval`とが一致しているかを確認します。\n",
        "\n",
        "Below you will do the following steps:\n",
        "\n",
        "1. Initialize the model, specifying the features and hyperparameters.\n",
        "2. Feed the training data to the model using the `train_input_fn` and train the model using the `train` function.\n",
        "3. You will assess model performance using the evaluation set—in this example, the `dfeval` DataFrame. You will verify that the predictions match the labels from the `y_eval` array.\n",
        "\n",
        "\n",
        "勾配ブースティングモデルを用いる前に、線形識別器(ロジスティック回帰モデル)を用いて学習させてみましょう。まずシンプルなモデルをベンチマークとして学習させてみることは、ベストプラクティスです。"
      ]
    },
    {
      "metadata": {
        "colab_type": "code",
        "id": "JPOGpmmq3rJr",
        "outputId": "93dc78a3-4499-446a-eabb-2bdcb0bfa0a6",
        "colab": {
          "base_uri": "https://localhost:8080/",
          "height": 51
        }
      },
      "cell_type": "code",
      "source": [
        "linear_est = tf.estimator.LinearClassifier(feature_columns)\n",
        "\n",
        "# モデルの学習\n",
        "linear_est.train(train_input_fn, max_steps=100)\n",
        "\n",
        "# 評価\n",
        "results = linear_est.evaluate(eval_input_fn)\n",
        "print('Accuracy : ', results['accuracy'])\n",
        "print('Dummy model: ', results['accuracy_baseline'])"
      ],
      "execution_count": 17,
      "outputs": [
        {
          "output_type": "stream",
          "text": [
            "Accuracy :  0.78409094\n",
            "Dummy model:  0.625\n"
          ],
          "name": "stdout"
        }
      ]
    },
    {
      "metadata": {
        "colab_type": "text",
        "id": "BarkNXwA3rJu"
      },
      "cell_type": "markdown",
      "source": [
        "次に勾配ブースティング木モデルを学習させてみましょう。\n",
        "勾配ブースティングでは回帰 (`BoostedTreesRegressor`) と分類 (`BoostedTreesClassifier`) が、任意の2回微分可能なカスタム損失関数の利用(`BoostedTreesClassifier`) に加えてサポートされています。今回の目標はクラス――生存したかどうか――を予測することなので、`BoostedTreesClassifier`を使いましょう。\n"
      ]
    },
    {
      "metadata": {
        "colab_type": "code",
        "id": "tgEzMtlw3rJu",
        "outputId": "54273293-3e45-4026-f463-e38491f5daf4",
        "colab": {
          "base_uri": "https://localhost:8080/",
          "height": 51
        }
      },
      "cell_type": "code",
      "source": [
        "# データがメモリ内に収まるため、一つのレイヤーでデータセット全体を利用する。\n",
        "# より高速になることが期待できる。\n",
        "# データ全体を利用するためバッチ数を1とする。\n",
        "n_batches = 1\n",
        "est = tf.estimator.BoostedTreesClassifier(feature_columns,\n",
        "                                          n_batches_per_layer=n_batches)\n",
        "\n",
        "# このモデルは学習ステップの実行数ではなく、指定した数の木が生成された段階で停止する。\n",
        "est.train(train_input_fn, max_steps=100)\n",
        "\n",
        "# 評価\n",
        "results = est.evaluate(eval_input_fn)\n",
        "print('Accuracy : ', results['accuracy'])\n",
        "print('Dummy model: ', results['accuracy_baseline'])"
      ],
      "execution_count": 19,
      "outputs": [
        {
          "output_type": "stream",
          "text": [
            "Accuracy :  0.8181818\n",
            "Dummy model:  0.625\n"
          ],
          "name": "stdout"
        }
      ]
    },
    {
      "metadata": {
        "colab_type": "text",
        "id": "cUrakbu6sqKe"
      },
      "cell_type": "markdown",
      "source": [
        "パフォーマンス上の理由から、利用するデータがメモリ上に乗るときには、`boosted_trees_classifier_train_in_memory`の利用が推奨されます。一方、学習にかかる時間が問題にならない場合や、大規模なデータセットを利用した分散学習を行いたい場合には、上記のように`tf.estimator.BoostedTrees`を利用するのが良いでしょう。\n",
        "\n",
        "このメソッド(訳注`boosted_trees_classifier_train_in_memory`)を利用した場合、データセット全体をメソッドで扱うために、入力データを分割すべきではありません。"
      ]
    },
    {
      "metadata": {
        "colab_type": "code",
        "id": "-4_xz3b_D0W5",
        "outputId": "bbd40462-3b56-4713-941d-8a383188942a",
        "colab": {
          "base_uri": "https://localhost:8080/",
          "height": 153
        }
      },
      "cell_type": "code",
      "source": [
        "def make_inmemory_train_input_fn(X, y):\n",
        "  def input_fn():\n",
        "    return dict(X), y\n",
        "  return input_fn\n",
        "\n",
        "\n",
        "train_input_fn = make_inmemory_train_input_fn(dftrain, y_train)\n",
        "eval_input_fn = make_input_fn(dfeval, y_eval, shuffle=False, n_epochs=1)\n",
        "est = tf.contrib.estimator.boosted_trees_classifier_train_in_memory(\n",
        "    train_input_fn,\n",
        "    feature_columns)\n",
        "print(est.evaluate(eval_input_fn)['accuracy'])"
      ],
      "execution_count": 0,
      "outputs": [
        {
          "output_type": "stream",
          "text": [
            "\n",
            "WARNING: The TensorFlow contrib module will not be included in TensorFlow 2.0.\n",
            "For more information, please see:\n",
            "  * https://github.com/tensorflow/community/blob/master/rfcs/20180907-contrib-sunset.md\n",
            "  * https://github.com/tensorflow/addons\n",
            "If you depend on functionality not listed there, please file an issue.\n",
            "\n",
            "0.7916667\n"
          ],
          "name": "stdout"
        }
      ]
    },
    {
      "metadata": {
        "colab_type": "text",
        "id": "hEflwznXvuMP"
      },
      "cell_type": "markdown",
      "source": [
        "学習させたモデルを用いると、評価データ中の乗客について予測ができます。\n",
        "Tensorflow のモデルはバッチやデータのコレクションを一度に予測するよう最適化されています。少し前で定義した`eval_input_fn`では評価データ全体を使うようにしています。"
      ]
    },
    {
      "metadata": {
        "colab_type": "code",
        "id": "6zmIjTr73rJ4",
        "outputId": "172818a4-3bc4-4baf-ff18-33ca24b367be",
        "colab": {
          "base_uri": "https://localhost:8080/",
          "height": 281
        }
      },
      "cell_type": "code",
      "source": [
        "pred_dicts = list(est.predict(eval_input_fn))\n",
        "probs = pd.Series([pred['probabilities'][1] for pred in pred_dicts])\n",
        "\n",
        "probs.plot(kind='hist', bins=20, title='predicted probabilities')\n",
        "plt.show()"
      ],
      "execution_count": 20,
      "outputs": [
        {
          "output_type": "display_data",
          "data": {
            "image/png": "[encoded data removed]",
            "text/plain": [
              "<Figure size 432x288 with 1 Axes>"
            ]
          },
          "metadata": {
            "tags": []
          }
        }
      ]
    },
    {
      "metadata": {
        "colab_type": "text",
        "id": "mBUaNN1BzJHG"
      },
      "cell_type": "markdown",
      "source": [
        "最後に、結果のROC(receiver operating characteristic)を確認しましょう。これは真の陽性と偽陽性とのトレードオフについて、良い示唆を与えてくれます。"
      ]
    },
    {
      "metadata": {
        "colab_type": "code",
        "id": "NzxghvVz3rJ6",
        "outputId": "a54ed2f9-2cba-43ad-b969-9e3e8b1fd760",
        "colab": {
          "base_uri": "https://localhost:8080/",
          "height": 295
        }
      },
      "cell_type": "code",
      "source": [
        "from sklearn.metrics import roc_curve\n",
        "\n",
        "fpr, tpr, _ = roc_curve(y_eval, probs)\n",
        "plt.plot(fpr, tpr)\n",
        "plt.title('ROC curve')\n",
        "plt.xlabel('false positive rate')\n",
        "plt.ylabel('true positive rate')\n",
        "plt.xlim(0,)\n",
        "plt.ylim(0,)\n",
        "plt.show()"
      ],
      "execution_count": 21,
      "outputs": [
        {
          "output_type": "display_data",
          "data": {
            "image/png": "[encoded data removed]",
            "text/plain": [
              "<Figure size 432x288 with 1 Axes>"
            ]
          },
          "metadata": {
            "tags": []
          }
        }
      ]
    },
    {
      "metadata": {
        "id": "V_pK6cOPrdcM",
        "colab_type": "code",
        "colab": {}
      },
      "cell_type": "code",
      "source": [
        ""
      ],
      "execution_count": 0,
      "outputs": []
    }
  ]
}
