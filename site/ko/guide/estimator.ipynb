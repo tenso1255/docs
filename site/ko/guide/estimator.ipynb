{
 "cells": [
  {
   "cell_type": "markdown",
   "metadata": {
    "colab_type": "text",
    "id": "Tce3stUlHN0L"
   },
   "source": [
    "##### Copyright 2019 The TensorFlow Authors."
   ]
  },
  {
   "cell_type": "code",
   "execution_count": 1,
   "metadata": {
    "cellView": "form",
    "colab": {},
    "colab_type": "code",
    "id": "tuOe1ymfHZPu"
   },
   "outputs": [],
   "source": [
    "#@title Licensed under the Apache License, Version 2.0 (the \"License\");\n",
    "# you may not use this file except in compliance with the License.\n",
    "# You may obtain a copy of the License at\n",
    "#\n",
    "# https://www.apache.org/licenses/LICENSE-2.0\n",
    "#\n",
    "# Unless required by applicable law or agreed to in writing, software\n",
    "# distributed under the License is distributed on an \"AS IS\" BASIS,\n",
    "# WITHOUT WARRANTIES OR CONDITIONS OF ANY KIND, either express or implied.\n",
    "# See the License for the specific language governing permissions and\n",
    "# limitations under the License."
   ]
  },
  {
   "cell_type": "markdown",
   "metadata": {
    "colab_type": "text",
    "id": "qFdPvlXBOdUN"
   },
   "source": [
    "# 추정기"
   ]
  },
  {
   "cell_type": "markdown",
   "metadata": {
    "colab_type": "text",
    "id": "MfBg1C5NB3X0"
   },
   "source": [
    "<table class=\"tfo-notebook-buttons\" align=\"left\">\n",
    "  <td>\n",
    "    <a target=\"_blank\" href=\"https://www.tensorflow.org/guide/estimator\"><img src=\"https://www.tensorflow.org/images/tf_logo_32px.png\" />TensorFlow.org에서 보기</a>\n",
    "  </td>\n",
    "  <td>\n",
    "    <a target=\"_blank\" href=\"https://colab.research.google.com/github/tensorflow/docs/blob/master/site/ko/guide/estimator.ipynb\"><img src=\"https://www.tensorflow.org/images/colab_logo_32px.png\" />구글 코랩에서 실행하기</a>\n",
    "  </td>\n",
    "  <td>\n",
    "    <a target=\"_blank\" href=\"https://github.com/tensorflow/docs/blob/master/site/ko/guide/estimator.ipynb\"><img src=\"https://www.tensorflow.org/images/GitHub-Mark-32px.png\" />GitHub 소스 보기</a>\n",
    "  </td>\n",
    "  <td>\n",
    "    <a href=\"https://storage.googleapis.com/tensorflow_docs/docs/site/ko/guide/estimator.ipynb\"><img src=\"https://www.tensorflow.org/images/download_logo_32px.png\" />노트북 다운로드하기</a>\n",
    "  </td>\n",
    "</table>"
   ]
  },
  {
   "cell_type": "markdown",
   "metadata": {},
   "source": [
    "Note: 이 문서는 텐서플로 커뮤니티에서 번역했습니다. 커뮤니티 번역 활동의 특성상 정확한 번역과 최신 내용을 반영하기 위해 노력함에도 불구하고 [공식 영문 문서](https://github.com/tensorflow/docs/blob/master/site/en/guide/gpu.ipynb)의 내용과 일치하지 않을 수 있습니다. 이 번역에 개선할 부분이 있다면 [tensorflow/docs](https://github.com/tensorflow/docs) 깃헙 저장소로 풀 리퀘스트를 보내주시기 바랍니다. 문서 번역이나 리뷰에 참여하려면 [docs-ko@tensorflow.org](https://groups.google.com/a/tensorflow.org/forum/#!forum/docs-ko)로 메일을 보내주시기 바랍니다."
   ]
  },
  {
   "cell_type": "markdown",
   "metadata": {
    "colab_type": "text",
    "id": "oEinLJt2Uowq"
   },
   "source": [
    "이 문서에서는 고수준 텐서플로 API인 `tf.estimator` 를 소개합니다. 추정기는 다음 작업들을 캡슐화 합니다.\n",
    "* 훈련\n",
    "* 평가\n",
    "* 예측\n",
    "* 내보내기\n",
    "\n",
    "사전 제작된 추정기나 직접 만든 추정기를 사용할 수 있습니다. 모든 추정기들은 `tf.estimator.Estimator` 를 기반으로 합니다.\n",
    "\n",
    "간단한 예시를 위해 [추정기 튜토리얼](../../tutorials/estimator/linear.ipynb) 을 참조하세요. API 디자인에 대한 개요는 [백서](https://arxiv.org/abs/1708.02637)를 참조하세요."
   ]
  },
  {
   "cell_type": "markdown",
   "metadata": {
    "colab_type": "text",
    "id": "Wg5zbBliQvNL"
   },
   "source": [
    "## 장점\n",
    "\n",
    "`tf.keras.Model`과 유사하게, `추정기` 는 모델 수준의 추상적 개념입니다. `tf.estimator`는 현재 `tf.keras`에서 아직까지 개발중인 일부 기능들을 제공합니다.\n",
    "\n",
    "그 기능들은 다음과 같습니다 :\n",
    "\n",
    "  * 매개변수 서버 기반 훈련\n",
    "  * 전체 [TFX](http://tensorflow.org/tfx) 통합."
   ]
  },
  {
   "cell_type": "markdown",
   "metadata": {
    "colab_type": "text",
    "id": "yQ8fQYt_VD5E"
   },
   "source": [
    "## 추정기의 기능\n",
    "추정기는 다음과 같은 이점을 제공합니다 :\n",
    "\n",
    "* 모델을 변경하지 않고 로컬호스트 또는 분산된 다중 서버 환경에서 추정기 기반 모델을 실행할 수 있습니다. 또한, 모델을 재코딩하지 않고도 CPU, GPU, TPU 에서 추정기 기반 모델을 실행할 수 있습니다.\n",
    "\n",
    "* 안전한 분산 훈련 루프를 제공하여 아래의 행동들을 언제, 어떻게 해야 하는지를 제어합니다.\n",
    "    * 데이터 로드\n",
    "    * 예외 처리\n",
    "    * 체크포인트 파일 생성 및 장애 복구\n",
    "    * 텐서보드에 요약 저장\n",
    "\n",
    "추정기를 사용하여 프로그램을 작성할 때, 반드시 모델에서 데이터 입력 파이프라인을 분리해야 합니다. 이 분리는 다른 데이터 세트로 실험할 때의 과정을 단순화합니다."
   ]
  },
  {
   "cell_type": "markdown",
   "metadata": {
    "colab_type": "text",
    "id": "sXNBeY-oVxGQ"
   },
   "source": [
    "## 사전 제작된 추정기\n",
    "\n",
    "사전 제작된 추정기는 텐서플로 API 기반의 작업보다 훨씬 높은 개념 수준의 작업을 가능하게 합니다.\n",
    "추정기가 모든 파이프라인을 처리하기 때문에 계산 그래프나 세션을 만드는 것에 대해서 더 이상 걱정할 필요가 없습니다. 또한, 사전 제작된 추정기는 최소한의 코드 변경만으로 다른 모델 아키텍처를 실험할 수 있게 해줍니다. 예를 들어 `tf.estimator.DNNClassifier` 는 완전 연결 신경망을 기반으로 한 분류 모델을 훈련시키는 사전 제작된 추정기입니다.\n",
    "\n",
    "### 사전 제작된 추정기 프로그램의 구조\n",
    "\n",
    "사전 제작된 추정기에 의존하는 텐서플로 프로그램은 일반적으로 4단계로 구성됩니다.\n",
    "\n",
    "#### 1. 하나 이상의 데이터세트 임포트 함수를 작성합니다.\n",
    "\n",
    "예를 들어, 훈련 세트를 가져오는 함수와 테스트 세트를 가져오는 다른 함수를 생성했을 때. 각각의 데이터세트 임포트 함수는 다음 두개의 오브젝트를 반환해야 합니다 :\n",
    "\n",
    "* 키가 특성 이름이고 값이 해당 특성 데이터를 포함하는 텐서(또는 희소텐서)인 딕셔너리\n",
    "* 한개 이상의 레이블을 포함하고 있는 텐서\n",
    "\n",
    "예를 들어, 다음 코드는 입력 함수의 기본 골격을 보여줍니다.\n",
    "\n",
    "```\n",
    "def input_fn(dataset):\n",
    "    ...  # 데이터 세트를 조작하여 특성 딕셔너리와 레이블을 추출합니다.\n",
    "    return feature_dict, label\n",
    "```\n",
    "\n",
    "자세한 내용은 [데이터 가이드](../../guide/data.md)를 참조하세요.\n",
    "\n",
    "#### 2. 특성 열을 정의합니다.\n",
    "\n",
    "각 `tf.feature_column`은 특성 이름, 유형 및 입력 전처리를 식별합니다. 예를 들어, 다음 예제는 정수 혹은 부동 소수점 데이터를 가지는 3개의 특성 열을 생성합니다. 처음의 두 특성 열은 단순히 특성의 이름과 유형만 식별합니다. 세번째 특성 열은 프로그램이 원본 데이터를 조정하기 위해 호출할 람다도 지정합니다 :\n",
    "\n",
    "\n",
    "```\n",
    "# 3개의 특성 열을 정의합니다. \n",
    "population = tf.feature_column.numeric_column('population')\n",
    "crime_rate = tf.feature_column.numeric_column('crime_rate')\n",
    "median_education = tf.feature_column.numeric_column(\n",
    "  'median_education',\n",
    "  normalizer_fn=lambda x: x - global_education_mean)\n",
    "```\n",
    "\n",
    "자세한 내용은 [특성 열 튜토리얼](https://www.tensorflow.org/tutorials/keras/feature_columns)을 참조하세요.\n",
    "\n",
    "#### 3. 사전 제작된 추정기를 인스턴스화합니다.\n",
    "\n",
    "예를 들어, 다음은 `LinearClassifier` 라는 이름의 사전 제작된 추정기의 샘플 인스턴스화 입니다 :\n",
    "\n",
    "```\n",
    "# 특성 열을 지나면서, 추정기를 인스턴스화합니다.\n",
    "estimator = tf.estimator.LinearClassifier(\n",
    "  feature_columns=[population, crime_rate, median_education])\n",
    "```\n",
    "자세한 내용은 [선형 분류기 튜토리얼](https://www.tensorflow.org/tutorials/estimator/linear)을 참조하세요.\n",
    "\n",
    "#### 4. 훈련, 평가, 혹은 추론 메소드를 호출합니다.\n",
    "\n",
    "예를 들어, 모든 추정기는 모델을 훈련시키는 `train` 메소드를 제공합니다.\n",
    "\n",
    "```\n",
    "# `input_fn` 은 1단계에서 만들어진 함수입니다.\n",
    "estimator.train(input_fn=my_training_set, steps=2000)\n",
    "```\n",
    "아래에서는 이에 대한 예를 볼 수 있습니다.\n",
    "\n",
    "### 사전 제작된 추정기의 이점\n",
    "\n",
    "사전 제작된 추정기는 모범 사례를 인코딩하여, 다음과 같은 이점들을 제공합니다 :\n",
    "\n",
    "* 단일 시스템 또는 클러스터에서 전략을 구현하여 계산 그래프의 다른 부분을 실행할 위치를 결정하는 모범 사례.\n",
    "* 이벤트(요약) 작성과 보편적으로 유용한 요약에 대한 모범 사례.\n",
    "\n",
    "사전 작성된 추정기를 사용하지 않을 경우, 이전 기능들을 직접 구현해야 합니다."
   ]
  },
  {
   "cell_type": "markdown",
   "metadata": {
    "colab_type": "text",
    "id": "oIaPjYgnZdn6"
   },
   "source": [
    "## 사용자 지정 추정기\n",
    "\n",
    "모든 추정기의 핵심은 훈련, 평가 및 예측을 위한 그래프를 만드는 방법인 *모델 함수* 입니다. 사전 제작된 추정기를 사용하는 경우, 다른 누군가가 이미 모델 함수를 구현해 놓았습니다. 사용자 지정 추정기를 사용할 때에는 모델 함수를 직접 작성해야 합니다.\n",
    "\n",
    "## 추천하는 작업 방법\n",
    "\n",
    "1. 적합한 사전 제작된 추정기가 존재한다고 가정할 때, 첫 번째 모델을 제작하고 그 결과를 사용하여 기준선을 설정하세요.\n",
    "2. 이 사전 제작된 추정기를 사용하여 데이터의 무결성 및 신뢰성을 비롯한 전체 파이프라인을 구축하고 테스트하세요.\n",
    "3. 적절한 사전 제작된 추정기가 사용자 지정 추정기를 대체할 수 있는 경우, 사전 제작된 추정기가 어떠한 최상의 결과를 산출하는지 실험을 진행해 보세요.\n",
    "4. 가능한 사용자 지정 추정기를 구축하여 모델을 더욱 개선해보세요."
   ]
  },
  {
   "cell_type": "code",
   "execution_count": 12,
   "metadata": {
    "colab": {},
    "colab_type": "code",
    "id": "l0QKHuEJ4Kc_"
   },
   "outputs": [],
   "source": [
    "from __future__ import absolute_import, division, print_function, unicode_literals"
   ]
  },
  {
   "cell_type": "code",
   "execution_count": 13,
   "metadata": {
    "colab": {},
    "colab_type": "code",
    "id": "kRr7DGZxFApM"
   },
   "source": [
    "try:\n",
    "  # %tensorflow_version은 오직 코랩에만 존재합니다.\n",
    "  %tensorflow_version 2.x\n",
    "except Exception:\n",
    "  pass\n",
    "import tensorflow as tf"
   ]
  },
  {
   "cell_type": "code",
   "execution_count": 14,
   "metadata": {
    "colab": {},
    "colab_type": "code",
    "id": "IqR2PQG4ZaZ0"
   },
   "source": [
    "import tensorflow_datasets as tfds\n",
    "tfds.disable_progress_bar()"
   ]
  },
  {
   "cell_type": "markdown",
   "metadata": {
    "colab_type": "text",
    "id": "P7aPNnXUbN4j"
   },
   "source": [
    "## Keras 모델에서 추정기 만들기\n",
    "\n",
    "기존 Keras 모델을 `tf.keras.estimator.model_to_estimator`를 사용하여 추정기로 변환할 수 있습니다. 이 방식을 사용하면 Keras 모델이 '분산 훈련'과 같은 추정기의 장점을 가질 수 있게 됩니다.\n",
    "\n",
    "Keras MobileNet V2 모델을 인스턴스화하고, 옵티마이저, 손실 및 측정 지표 등을 사용하여 모델을 컴파일 하고 다음을 훈련시키세요 :"
   ]
  },
  {
   "cell_type": "code",
   "execution_count": 15,
   "metadata": {
    "colab": {},
    "colab_type": "code",
    "id": "XE6NMcuGeDOP",
    "scrolled": true
   },
    "source": [
    "keras_mobilenet_v2 = tf.keras.applications.MobileNetV2(\n",
    "    input_shape=(160, 160, 3), include_top=False)\n",
    "\n",
    "estimator_model = tf.keras.Sequential([\n",
    "    keras_mobilenet_v2,\n",
    "    tf.keras.layers.Flatten(),\n",
    "    tf.keras.layers.Dense(1, activation='softmax')\n",
    "])\n",
    "\n",
    "# 모델 컴파일\n",
    "estimator_model.compile(\n",
    "    optimizer='adam',\n",
    "    loss='binary_crossentropy',\n",
    "    metrics=['accuracy'])"
   ]
  },
  {
   "cell_type": "markdown",
   "metadata": {
    "colab_type": "text",
    "id": "A3hcxzcEfYfX"
   },
   "source": [
    "컴파일된 Keras 모델에서 `추정기`를 생성합니다. Keras 모델의 초기 모델 상태는 생성된 `추정기`에 보존됩니다 :"
   ]
  },
  {
   "cell_type": "code",
   "execution_count": 16,
   "metadata": {
    "colab": {},
    "colab_type": "code",
    "id": "UCSSifirfyHk"
   },
   "source": [
    "est_mobilenet_v2 = tf.keras.estimator.model_to_estimator(keras_model=estimator_model)"
   ]
  },
  {
   "cell_type": "markdown",
   "metadata": {
    "colab_type": "text",
    "id": "8jRNRVb_fzGT"
   },
   "source": [
    "파생된 `추정기`를 다른`Estimator`와 마찬가지로 취급합니다."
   ]
  },
  {
   "cell_type": "code",
   "execution_count": 8,
   "metadata": {
    "colab": {},
    "colab_type": "code",
    "id": "Rv9xJk51e1fB"
   },
   "outputs": [],
   "source": [
    "IMG_SIZE = 160  # 모든 이미지는 160x160 크기로 재설정됩니다.\n",
    "\n",
    "def preprocess(image, label):\n",
    "  image = tf.cast(image, tf.float32)\n",
    "  image = (image/127.5) - 1\n",
    "  image = tf.image.resize(image, (IMG_SIZE, IMG_SIZE))\n",
    "  return image, label"
   ]
  },
  {
   "cell_type": "code",
   "execution_count": 9,
   "metadata": {
    "colab": {},
    "colab_type": "code",
    "id": "Fw8OjwujVBkc"
   },
   "outputs": [],
   "source": [
    "def train_input_fn(batch_size):\n",
    "  data = tfds.load('cats_vs_dogs', as_supervised=True)\n",
    "  train_data = data['train']\n",
    "  train_data = train_data.map(preprocess).shuffle(500).batch(batch_size)\n",
    "  return train_data"
   ]
  },
  {
   "cell_type": "markdown",
   "metadata": {
    "colab_type": "text",
    "id": "JMb0cuy0gbTi"
   },
   "source": [
    "훈련을 위해 추정기의 훈련 함수를 호출하세요 :"
   ]
  },
  {
   "cell_type": "code",
   "execution_count": 10,
   "metadata": {
    "colab": {},
    "colab_type": "code",
    "id": "4JsvMp8Jge80"
   },
   "source": [
    "est_mobilenet_v2.train(input_fn=lambda: train_input_fn(32), steps=500)"
   ]
  },
  {
   "cell_type": "markdown",
   "metadata": {
    "colab_type": "text",
    "id": "jvr_rAzngY9v"
   },
   "source": [
    "마찬가지로, 평가를 위해 추정기의 평가 함수를 호출하세요 :"
   ]
  },
  {
   "cell_type": "code",
   "execution_count": 0,
   "metadata": {
    "colab": {},
    "colab_type": "code",
    "id": "kVNPqysQgYR2"
   },
   "outputs": [],
   "source": [
    "est_mobilenet_v2.evaluate(input_fn=lambda: train_input_fn(32), steps=10)"
   ]
  },
  {
   "cell_type": "markdown",
   "metadata": {
    "colab_type": "text",
    "id": "5HeTOvCYbjZb"
   },
   "source": [
    "자세한 내용은 `tf.keras.estimator.model_to_estimator`의 설명서를 참조하세요."
   ]
  }
 ],
 "metadata": {
  "accelerator": "GPU",
  "colab": {
   "collapsed_sections": [
    "Tce3stUlHN0L"
   ],
   "name": "estimator.ipynb",
   "private_outputs": true,
   "provenance": [],
   "toc_visible": true,
   "version": "0.3.2"
  },
  "kernelspec": {
   "display_name": "Python 3",
   "language": "python",
   "name": "python3"
  },
  "language_info": {
   "codemirror_mode": {
    "name": "ipython",
    "version": 3
   },
   "file_extension": ".py",
   "mimetype": "text/x-python",
   "name": "python",
   "nbconvert_exporter": "python",
   "pygments_lexer": "ipython3",
   "version": "3.7.4"
  }
 },
 "nbformat": 4,
 "nbformat_minor": 1
}
