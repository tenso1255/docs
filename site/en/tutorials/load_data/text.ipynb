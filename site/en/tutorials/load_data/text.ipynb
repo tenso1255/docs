{
  "cells": [
    {
      "cell_type": "markdown",
      "source": [
        "##### Copyright 2018 The TensorFlow Authors.\n"
      ],
      "metadata": {
        "id": "DweYe9FcbMK_"
      }
    },
    {
      "cell_type": "code",
      "execution_count": null,
      "source": [
        "#@title Licensed under the Apache License, Version 2.0 (the \"License\");\r\n",
        "# you may not use this file except in compliance with the License.\r\n",
        "# You may obtain a copy of the License at\r\n",
        "#\r\n",
        "# https://www.apache.org/licenses/LICENSE-2.0\r\n",
        "#\r\n",
        "# Unless required by applicable law or agreed to in writing, software\r\n",
        "# distributed under the License is distributed on an \"AS IS\" BASIS,\r\n",
        "# WITHOUT WARRANTIES OR CONDITIONS OF ANY KIND, either express or implied.\r\n",
        "# See the License for the specific language governing permissions and\r\n",
        "# limitations under the License."
      ],
      "outputs": [],
      "metadata": {
        "cellView": "form",
        "id": "AVV2e0XKbJeX"
      }
    },
    {
      "cell_type": "markdown",
      "source": [
        "# Load text"
      ],
      "metadata": {
        "id": "sZfSvVcDo6GQ"
      }
    },
    {
      "cell_type": "markdown",
      "source": [
        "<table class=\"tfo-notebook-buttons\" align=\"left\">\n",
        "  <td>\n",
        "    <a target=\"_blank\" href=\"https://www.tensorflow.org/tutorials/load_data/text\"><img src=\"https://www.tensorflow.org/images/tf_logo_32px.png\" />View on TensorFlow.org</a>\n",
        "  </td>\n",
        "  <td>\n",
        "    <a target=\"_blank\" href=\"https://colab.research.google.com/github/tensorflow/docs/blob/master/site/en/tutorials/load_data/text.ipynb\"><img src=\"https://www.tensorflow.org/images/colab_logo_32px.png\" />Run in Google Colab</a>\n",
        "  </td>\n",
        "  <td>\n",
        "    <a target=\"_blank\" href=\"https://github.com/tensorflow/docs/blob/master/site/en/tutorials/load_data/text.ipynb\"><img src=\"https://www.tensorflow.org/images/GitHub-Mark-32px.png\" />View source on GitHub</a>\n",
        "  </td>\n",
        "  <td>\n",
        "    <a href=\"https://storage.googleapis.com/tensorflow_docs/docs/site/en/tutorials/load_data/text.ipynb\"><img src=\"https://www.tensorflow.org/images/download_logo_32px.png\" />Download notebook</a>\n",
        "  </td>\n",
        "</table>"
      ],
      "metadata": {
        "id": "giK0nMbZFnoR"
      }
    },
    {
      "cell_type": "markdown",
      "source": [
        "This tutorial demonstrates two ways to load and preprocess text.\n",
        "\n",
        "+ First, you will use Keras utilities and layers. If you are new to TensorFlow, you should start with these.\n",
        "\n",
        "+ Next, you will use lower-level utilities like `tf.data.TextLineDataset` to load text files, and `tf.text` to preprocess the data for finer-grain control."
      ],
      "metadata": {
        "id": "dwlfPb11GH8J"
      }
    },
    {
      "cell_type": "code",
      "execution_count": null,
      "source": [
        "pip install -q -U tensorflow-text"
      ],
      "outputs": [],
      "metadata": {
        "id": "sa6IKWvADqH7"
      }
    },
    {
      "cell_type": "code",
      "execution_count": null,
      "source": [
        "import collections\r\n",
        "import pathlib\r\n",
        "import re\r\n",
        "import string\r\n",
        "\r\n",
        "import tensorflow as tf\r\n",
        "\r\n",
        "from tensorflow.keras import layers\r\n",
        "from tensorflow.keras import losses\r\n",
        "from tensorflow.keras import preprocessing\r\n",
        "from tensorflow.keras import utils\r\n",
        "from tensorflow.keras.layers.experimental.preprocessing import TextVectorization\r\n",
        "\r\n",
        "import tensorflow_datasets as tfds\r\n",
        "import tensorflow_text as tf_text"
      ],
      "outputs": [],
      "metadata": {
        "id": "baYFZMW_bJHh"
      }
    },
    {
      "cell_type": "markdown",
      "source": [
        "## Example 1: Predict the tag for a Stack Overflow question\n",
        "\n",
        "As a first example, you will download a dataset of programming questions from Stack Overflow. Each question (\"How do I sort a dictionary by value?\") is labeled with exactly one tag (`Python`, `CSharp`, `JavaScript`, or `Java`). Your task is to develop a model that predicts the tag for a question. This is an example of multi-class classification, an important and widely applicable kind of machine learning problem."
      ],
      "metadata": {
        "id": "Az-d_K5_HQ5k"
      }
    },
    {
      "cell_type": "markdown",
      "source": [
        "### Download and explore the dataset\n",
        "\n",
        "Next, you will download the dataset, and explore the directory structure."
      ],
      "metadata": {
        "id": "tjC3yLa5IjP7"
      }
    },
    {
      "cell_type": "code",
      "execution_count": null,
      "source": [
        "data_url = 'https://storage.googleapis.com/download.tensorflow.org/data/stack_overflow_16k.tar.gz'\r\n",
        "dataset_dir = utils.get_file(\r\n",
        "    'stack_overflow',\r\n",
        "    origin=data_url,\r\n",
        "    untar=True,\r\n",
        "    cache_dir='',\r\n",
        "    cache_subdir='')\r\n",
        "\r\n",
        "dataset_dir = pathlib.Path(dataset_dir).parent"
      ],
      "outputs": [],
      "metadata": {
        "id": "8ELgzA6SHTuV"
      }
    },
    {
      "cell_type": "code",
      "execution_count": null,
      "source": [
        "list(dataset_dir.iterdir())"
      ],
      "outputs": [],
      "metadata": {
        "id": "jIrPl5fUH2gb"
      }
    },
    {
      "cell_type": "code",
      "execution_count": null,
      "source": [
        "train_dir = dataset_dir/'train'\r\n",
        "list(train_dir.iterdir())"
      ],
      "outputs": [],
      "metadata": {
        "id": "fEoV7YByJoWQ"
      }
    },
    {
      "cell_type": "markdown",
      "source": [
        "The `train/csharp`, `train/java`, `train/python` and `train/javascript` directories contain many text files, each of which is a Stack Overflow question. Print a file and inspect the data."
      ],
      "metadata": {
        "id": "3mxAN17MhEh0"
      }
    },
    {
      "cell_type": "code",
      "execution_count": null,
      "source": [
        "sample_file = train_dir/'python/1755.txt'\r\n",
        "with open(sample_file) as f:\r\n",
        "  print(f.read())"
      ],
      "outputs": [],
      "metadata": {
        "id": "Go1vTSGdJu08"
      }
    },
    {
      "cell_type": "markdown",
      "source": [
        "### Load the dataset\n",
        "\n",
        "Next, you will load the data off disk and prepare it into a format suitable for training. To do so, you will use [text_dataset_from_directory](https://www.tensorflow.org/api_docs/python/tf/keras/preprocessing/text_dataset_from_directory) utility to create a labeled `tf.data.Dataset`. If you're new to [tf.data](https://www.tensorflow.org/guide/data), it's a powerful collection of tools for building input pipelines.\n",
        "\n",
        "The `preprocessing.text_dataset_from_directory` expects a directory structure as follows.\n",
        "\n",
        "```\n",
        "train/\n",
        "...csharp/\n",
        "......1.txt\n",
        "......2.txt\n",
        "...java/\n",
        "......1.txt\n",
        "......2.txt\n",
        "...javascript/\n",
        "......1.txt\n",
        "......2.txt\n",
        "...python/\n",
        "......1.txt\n",
        "......2.txt\n",
        "```"
      ],
      "metadata": {
        "id": "deWBTkpJiO7D"
      }
    },
    {
      "cell_type": "markdown",
      "source": [
        "When running a machine learning experiment, it is a best practice to divide your dataset into three splits: [train](https://developers.google.com/machine-learning/glossary#training_set), [validation](https://developers.google.com/machine-learning/glossary#validation_set), and [test](https://developers.google.com/machine-learning/glossary#test-set). The Stack Overflow dataset has already been divided into train and test, but it lacks a validation set. Create a validation set using an 80:20 split of the training data by using the `validation_split` argument below."
      ],
      "metadata": {
        "id": "Dyl6JTAjlbQV"
      }
    },
    {
      "cell_type": "code",
      "execution_count": null,
      "source": [
        "batch_size = 32\r\n",
        "seed = 42\r\n",
        "\r\n",
        "raw_train_ds = preprocessing.text_dataset_from_directory(\r\n",
        "    train_dir,\r\n",
        "    batch_size=batch_size,\r\n",
        "    validation_split=0.2,\r\n",
        "    subset='training',\r\n",
        "    seed=seed)"
      ],
      "outputs": [],
      "metadata": {
        "id": "qqyliMw8N-az"
      }
    },
    {
      "cell_type": "markdown",
      "source": [
        "As you can see above, there are 8,000 examples in the training folder, of which you will use 80% (or 6,400) for training. As you will see in a moment, you can train a model by passing a `tf.data.Dataset` directly to `model.fit`. First, iterate over the dataset and print out a few examples, to get a feel for the data.\n",
        "\n",
        "Note: To increase the difficulty of the classification problem, the dataset author replaced occurrences of the words *Python*, *CSharp*, *JavaScript*, or *Java* in the programming question with the word *blank*."
      ],
      "metadata": {
        "id": "DMI_gPLfloD7"
      }
    },
    {
      "cell_type": "code",
      "execution_count": null,
      "source": [
        "for text_batch, label_batch in raw_train_ds.take(1):\r\n",
        "  for i in range(10):\r\n",
        "    print(\"Question: \", text_batch.numpy()[i])\r\n",
        "    print(\"Label:\", label_batch.numpy()[i])"
      ],
      "outputs": [],
      "metadata": {
        "id": "_JMTyZ6Glt_C"
      }
    },
    {
      "cell_type": "markdown",
      "source": [
        "The labels are `0`, `1`, `2` or `3`. To see which of these correspond to which string label, you can check the `class_names` property on the dataset.\n"
      ],
      "metadata": {
        "id": "jCZGl4Q5l2sS"
      }
    },
    {
      "cell_type": "code",
      "execution_count": null,
      "source": [
        "for i, label in enumerate(raw_train_ds.class_names):\r\n",
        "  print(\"Label\", i, \"corresponds to\", label)"
      ],
      "outputs": [],
      "metadata": {
        "id": "gIpCS7YjmGkj"
      }
    },
    {
      "cell_type": "markdown",
      "source": [
        "Next, you will create a validation and test dataset. You will use the remaining 1,600 reviews from the training set for validation.\n",
        "\n",
        "Note:  When using the `validation_split` and `subset` arguments, make sure to either specify a random seed, or to pass `shuffle=False`, so that the validation and training splits have no overlap."
      ],
      "metadata": {
        "id": "oUsdn-37qol9"
      }
    },
    {
      "cell_type": "code",
      "execution_count": null,
      "source": [
        "raw_val_ds = preprocessing.text_dataset_from_directory(\r\n",
        "    train_dir,\r\n",
        "    batch_size=batch_size,\r\n",
        "    validation_split=0.2,\r\n",
        "    subset='validation',\r\n",
        "    seed=seed)"
      ],
      "outputs": [],
      "metadata": {
        "id": "x7m6sCWJQuYt"
      }
    },
    {
      "cell_type": "code",
      "execution_count": null,
      "source": [
        "test_dir = dataset_dir/'test'\r\n",
        "raw_test_ds = preprocessing.text_dataset_from_directory(\r\n",
        "    test_dir, batch_size=batch_size)"
      ],
      "outputs": [],
      "metadata": {
        "id": "BXMZc7fMQwKE"
      }
    },
    {
      "cell_type": "markdown",
      "source": [
        "### Prepare the dataset for training"
      ],
      "metadata": {
        "id": "Xdt-ATrGRGDL"
      }
    },
    {
      "cell_type": "markdown",
      "source": [
        "Note: The Preprocessing APIs used in this section are experimental in TensorFlow 2.3 and subject to change."
      ],
      "metadata": {
        "id": "HSDO9JZYrK-O"
      }
    },
    {
      "cell_type": "markdown",
      "source": [
        "Next, you will standardize, tokenize, and vectorize the data using the `preprocessing.TextVectorization` layer.\n",
        "* Standardization refers to preprocessing the text, typically to remove punctuation or HTML elements to simplify the dataset.\n",
        "\n",
        "* Tokenization refers to splitting strings into tokens (for example, splitting a sentence into individual words by splitting on whitespace).\n",
        "\n",
        "* Vectorization refers to converting tokens into numbers so they can be fed into a neural network.\n",
        "\n",
        "All of these tasks can be accomplished with this layer. You can learn more about each of these in the [API doc](https://www.tensorflow.org/api_docs/python/tf/keras/layers/experimental/preprocessing/TextVectorization).\n",
        "\n",
        "* The default standardization converts text to lowercase and removes punctuation.\n",
        "\n",
        "* The default tokenizer splits on whitespace.\n",
        "\n",
        "* The default vectorization mode is `int`. This outputs integer indices (one per token). This mode can be used to build models that take word order into account. You can also use other modes, like `binary`, to build bag-of-word models.\n",
        "\n",
        "\n",
        "You will build two modes to learn more about these. First, you will use the `binary` model to build a bag-of-words model. Next, you will use the `int` mode with a 1D ConvNet."
      ],
      "metadata": {
        "id": "N6fRti45Rlj8"
      }
    },
    {
      "cell_type": "code",
      "execution_count": null,
      "source": [
        "VOCAB_SIZE = 10000\r\n",
        "\r\n",
        "binary_vectorize_layer = TextVectorization(\r\n",
        "    max_tokens=VOCAB_SIZE,\r\n",
        "    output_mode='binary')"
      ],
      "outputs": [],
      "metadata": {
        "id": "voaC43rZR0jc"
      }
    },
    {
      "cell_type": "markdown",
      "source": [
        "For `int` mode, in addition to maximum vocabulary size, you need to set an explicit maximum sequence length, which will cause the layer to pad or truncate sequences to exactly sequence_length values."
      ],
      "metadata": {
        "id": "ifDPFxuf2Hfz"
      }
    },
    {
      "cell_type": "code",
      "execution_count": null,
      "source": [
        "MAX_SEQUENCE_LENGTH = 250\r\n",
        "\r\n",
        "int_vectorize_layer = TextVectorization(\r\n",
        "    max_tokens=VOCAB_SIZE,\r\n",
        "    output_mode='int',\r\n",
        "    output_sequence_length=MAX_SEQUENCE_LENGTH)"
      ],
      "outputs": [],
      "metadata": {
        "id": "XWsY01Zl2aRe"
      }
    },
    {
      "cell_type": "markdown",
      "source": [
        "Next, you will call `adapt` to fit the state of the preprocessing layer to the dataset. This will cause the model to build an index of strings to integers.\n",
        "\n",
        "Note: it's important to only use your training data when calling adapt (using the test set would leak information)."
      ],
      "metadata": {
        "id": "ts6h9b5atD-Y"
      }
    },
    {
      "cell_type": "code",
      "execution_count": null,
      "source": [
        "# Make a text-only dataset (without labels), then call adapt\r\n",
        "train_text = raw_train_ds.map(lambda text, labels: text)\r\n",
        "binary_vectorize_layer.adapt(train_text)\r\n",
        "int_vectorize_layer.adapt(train_text)"
      ],
      "outputs": [],
      "metadata": {
        "id": "yTXsdDEqSf9e"
      }
    },
    {
      "cell_type": "markdown",
      "source": [
        "See the result of using these layers to preprocess data:"
      ],
      "metadata": {
        "id": "XKVO6Jg7Sls0"
      }
    },
    {
      "cell_type": "code",
      "execution_count": null,
      "source": [
        "def binary_vectorize_text(text, label):\r\n",
        "  text = tf.expand_dims(text, -1)\r\n",
        "  return binary_vectorize_layer(text), label"
      ],
      "outputs": [],
      "metadata": {
        "id": "RngfPyArSsvM"
      }
    },
    {
      "cell_type": "code",
      "execution_count": null,
      "source": [
        "def int_vectorize_text(text, label):\r\n",
        "  text = tf.expand_dims(text, -1)\r\n",
        "  return int_vectorize_layer(text), label"
      ],
      "outputs": [],
      "metadata": {
        "id": "_1W54wf0LhQ0"
      }
    },
    {
      "cell_type": "code",
      "execution_count": null,
      "source": [
        "# Retrieve a batch (of 32 reviews and labels) from the dataset\r\n",
        "text_batch, label_batch = next(iter(raw_train_ds))\r\n",
        "first_question, first_label = text_batch[0], label_batch[0]\r\n",
        "print(\"Question\", first_question)\r\n",
        "print(\"Label\", first_label)"
      ],
      "outputs": [],
      "metadata": {
        "id": "Vi_sElMiSmXe"
      }
    },
    {
      "cell_type": "code",
      "execution_count": null,
      "source": [
        "print(\"'binary' vectorized question:\", \r\n",
        "      binary_vectorize_text(first_question, first_label)[0])"
      ],
      "outputs": [],
      "metadata": {
        "id": "UGukZoYv2v3v"
      }
    },
    {
      "cell_type": "code",
      "execution_count": null,
      "source": [
        "print(\"'int' vectorized question:\",\r\n",
        "      int_vectorize_text(first_question, first_label)[0])"
      ],
      "outputs": [],
      "metadata": {
        "id": "Lu07FsIw2yH5"
      }
    },
    {
      "cell_type": "markdown",
      "source": [
        "As you can see above, `binary` mode returns an array denoting which tokens exist at least once in the input, while `int` mode replaces each token by an integer, thus preserving their order. You can lookup the token (string) that each integer corresponds to by calling `.get_vocabulary()` on the layer."
      ],
      "metadata": {
        "id": "wgjeF9PdS7tN"
      }
    },
    {
      "cell_type": "code",
      "execution_count": null,
      "source": [
        "print(\"1289 ---> \", int_vectorize_layer.get_vocabulary()[1289])\r\n",
        "print(\"313 ---> \", int_vectorize_layer.get_vocabulary()[313])\r\n",
        "print(\"Vocabulary size: {}\".format(len(int_vectorize_layer.get_vocabulary())))"
      ],
      "outputs": [],
      "metadata": {
        "id": "WpBnTZilS8wt"
      }
    },
    {
      "cell_type": "markdown",
      "source": [
        "You are nearly ready to train your model. As a final preprocessing step, you will apply the `TextVectorization` layers you created earlier to the train, validation, and test dataset."
      ],
      "metadata": {
        "id": "0kHgPE_YwHvp"
      }
    },
    {
      "cell_type": "code",
      "execution_count": null,
      "source": [
        "binary_train_ds = raw_train_ds.map(binary_vectorize_text)\r\n",
        "binary_val_ds = raw_val_ds.map(binary_vectorize_text)\r\n",
        "binary_test_ds = raw_test_ds.map(binary_vectorize_text)\r\n",
        "\r\n",
        "int_train_ds = raw_train_ds.map(int_vectorize_text)\r\n",
        "int_val_ds = raw_val_ds.map(int_vectorize_text)\r\n",
        "int_test_ds = raw_test_ds.map(int_vectorize_text)"
      ],
      "outputs": [],
      "metadata": {
        "id": "46LeHmnD55wJ"
      }
    },
    {
      "cell_type": "markdown",
      "source": [
        "### Configure the dataset for performance\n",
        "\n",
        "These are two important methods you should use when loading data to make sure that I/O does not become blocking.\n",
        "\n",
        "`.cache()` keeps data in memory after it's loaded off disk. This will ensure the dataset does not become a bottleneck while training your model. If your dataset is too large to fit into memory, you can also use this method to create a performant on-disk cache, which is more efficient to read than many small files.\n",
        "\n",
        "`.prefetch()` overlaps data preprocessing and model execution while training. \n",
        "\n",
        "You can learn more about both methods, as well as how to cache data to disk in the [data performance guide](https://www.tensorflow.org/guide/data_performance)."
      ],
      "metadata": {
        "id": "NHuAF8hYfP5Z"
      }
    },
    {
      "cell_type": "code",
      "execution_count": null,
      "source": [
        "AUTOTUNE = tf.data.AUTOTUNE\r\n",
        "\r\n",
        "def configure_dataset(dataset):\r\n",
        "  return dataset.cache().prefetch(buffer_size=AUTOTUNE)"
      ],
      "outputs": [],
      "metadata": {
        "id": "PabA9DFIfSz7"
      }
    },
    {
      "cell_type": "code",
      "execution_count": null,
      "source": [
        "binary_train_ds = configure_dataset(binary_train_ds)\r\n",
        "binary_val_ds = configure_dataset(binary_val_ds)\r\n",
        "binary_test_ds = configure_dataset(binary_test_ds)\r\n",
        "\r\n",
        "int_train_ds = configure_dataset(int_train_ds)\r\n",
        "int_val_ds = configure_dataset(int_val_ds)\r\n",
        "int_test_ds = configure_dataset(int_test_ds)"
      ],
      "outputs": [],
      "metadata": {
        "id": "J8GcJLvb3JH0"
      }
    },
    {
      "cell_type": "markdown",
      "source": [
        "### Train the model\n",
        "It's time to create our neural network. For the `binary` vectorized data, train a simple bag-of-words linear model:"
      ],
      "metadata": {
        "id": "NYGb7z_bfpGm"
      }
    },
    {
      "cell_type": "code",
      "execution_count": null,
      "source": [
        "binary_model = tf.keras.Sequential([layers.Dense(4)])\r\n",
        "binary_model.compile(\r\n",
        "    loss=losses.SparseCategoricalCrossentropy(from_logits=True),\r\n",
        "    optimizer='adam',\r\n",
        "    metrics=['accuracy'])\r\n",
        "history = binary_model.fit(\r\n",
        "    binary_train_ds, validation_data=binary_val_ds, epochs=10)"
      ],
      "outputs": [],
      "metadata": {
        "id": "2q8iAU-VMzaN"
      }
    },
    {
      "cell_type": "markdown",
      "source": [
        "Next, you will use the `int` vectorized layer to build a 1D ConvNet."
      ],
      "metadata": {
        "id": "EwidD-SwNIkz"
      }
    },
    {
      "cell_type": "code",
      "execution_count": null,
      "source": [
        "def create_model(vocab_size, num_labels):\r\n",
        "  model = tf.keras.Sequential([\r\n",
        "      layers.Embedding(vocab_size, 64, mask_zero=True),\r\n",
        "      layers.Conv1D(64, 5, padding=\"valid\", activation=\"relu\", strides=2),\r\n",
        "      layers.GlobalMaxPooling1D(),\r\n",
        "      layers.Dense(num_labels)\r\n",
        "  ])\r\n",
        "  return model"
      ],
      "outputs": [],
      "metadata": {
        "id": "5ztw2XH_LbVz"
      }
    },
    {
      "cell_type": "code",
      "execution_count": null,
      "source": [
        "# vocab_size is VOCAB_SIZE + 1 since 0 is used additionally for padding.\r\n",
        "int_model = create_model(vocab_size=VOCAB_SIZE + 1, num_labels=4)\r\n",
        "int_model.compile(\r\n",
        "    loss=losses.SparseCategoricalCrossentropy(from_logits=True),\r\n",
        "    optimizer='adam',\r\n",
        "    metrics=['accuracy'])\r\n",
        "history = int_model.fit(int_train_ds, validation_data=int_val_ds, epochs=5)"
      ],
      "outputs": [],
      "metadata": {
        "id": "s9rG1cFRL31Z"
      }
    },
    {
      "cell_type": "markdown",
      "source": [
        "Compare the two models:"
      ],
      "metadata": {
        "id": "x3J9Eeuv97zE"
      }
    },
    {
      "cell_type": "code",
      "execution_count": null,
      "source": [
        "print(\"Linear model on binary vectorized data:\")\r\n",
        "print(binary_model.summary())"
      ],
      "outputs": [],
      "metadata": {
        "id": "N8ViDXw99v_u"
      }
    },
    {
      "cell_type": "code",
      "execution_count": null,
      "source": [
        "print(\"ConvNet model on int vectorized data:\")\r\n",
        "print(int_model.summary())"
      ],
      "outputs": [],
      "metadata": {
        "id": "P9BOeoCwborD"
      }
    },
    {
      "cell_type": "markdown",
      "source": [
        "Evaluate both models on the test data:"
      ],
      "metadata": {
        "id": "zYYW9tUdCtTy"
      }
    },
    {
      "cell_type": "code",
      "execution_count": null,
      "source": [
        "binary_loss, binary_accuracy = binary_model.evaluate(binary_test_ds)\r\n",
        "int_loss, int_accuracy = int_model.evaluate(int_test_ds)\r\n",
        "\r\n",
        "print(\"Binary model accuracy: {:2.2%}\".format(binary_accuracy))\r\n",
        "print(\"Int model accuracy: {:2.2%}\".format(int_accuracy))"
      ],
      "outputs": [],
      "metadata": {
        "id": "5dTc4nZqf7fK"
      }
    },
    {
      "cell_type": "markdown",
      "source": [
        "Note: This example dataset represents a rather simple classification problem. More complex datasets and problems bring out subtle but significant differences in preprocessing strategies and model architectures. Be sure to try out different hyperparameters and epochs to compare various approaches."
      ],
      "metadata": {
        "id": "F9dhj8Hey9DS"
      }
    },
    {
      "cell_type": "markdown",
      "source": [
        "### Export the model\n",
        "\n",
        "In the code above, you applied the `TextVectorization` layer to the dataset before feeding text to the model. If you want to make your model capable of processing raw strings (for example, to simplify deploying it), you can include the `TextVectorization` layer inside your model. To do so, you can create a new model using the weights you just trained."
      ],
      "metadata": {
        "id": "h9GaXTsIgP-3"
      }
    },
    {
      "cell_type": "code",
      "execution_count": null,
      "source": [
        "export_model = tf.keras.Sequential(\r\n",
        "    [binary_vectorize_layer, binary_model,\r\n",
        "     layers.Activation('softmax')])\r\n",
        "\r\n",
        "export_model.compile(\r\n",
        "    loss=losses.SparseCategoricalCrossentropy(from_logits=False),\r\n",
        "    optimizer='adam',\r\n",
        "    metrics=['accuracy'])\r\n",
        "\r\n",
        "# Test it with `raw_test_ds`, which yields raw strings\r\n",
        "loss, accuracy = export_model.evaluate(raw_test_ds)\r\n",
        "print(\"Accuracy: {:2.2%}\".format(binary_accuracy))"
      ],
      "outputs": [],
      "metadata": {
        "id": "_bRe3KX8gRCX"
      }
    },
    {
      "cell_type": "markdown",
      "source": [
        "Now your model can take raw strings as input and predict a score for each label using `model.predict`. Define a function to find the label with the maximum score:"
      ],
      "metadata": {
        "id": "m2eqTVBP4DUN"
      }
    },
    {
      "cell_type": "code",
      "execution_count": null,
      "source": [
        "def get_string_labels(predicted_scores_batch):\r\n",
        "  predicted_int_labels = tf.argmax(predicted_scores_batch, axis=1)\r\n",
        "  predicted_labels = tf.gather(raw_train_ds.class_names, predicted_int_labels)\r\n",
        "  return predicted_labels"
      ],
      "outputs": [],
      "metadata": {
        "id": "GU53uRXz45iO"
      }
    },
    {
      "cell_type": "markdown",
      "source": [
        "### Run inference on new data"
      ],
      "metadata": {
        "id": "yqnWc7Nn5eou"
      }
    },
    {
      "cell_type": "code",
      "execution_count": null,
      "source": [
        "inputs = [\r\n",
        "    \"how do I extract keys from a dict into a list?\",  # python\r\n",
        "    \"debug public static void main(string[] args) {...}\",  # java\r\n",
        "]\r\n",
        "predicted_scores = export_model.predict(inputs)\r\n",
        "predicted_labels = get_string_labels(predicted_scores)\r\n",
        "for input, label in zip(inputs, predicted_labels):\r\n",
        "  print(\"Question: \", input)\r\n",
        "  print(\"Predicted label: \", label.numpy())"
      ],
      "outputs": [],
      "metadata": {
        "id": "BOR2MupW1_zS"
      }
    },
    {
      "cell_type": "markdown",
      "source": [
        "Including the text preprocessing logic inside your model enables you to export a model for production that simplifies deployment, and reduces the potential for [train/test skew](https://developers.google.com/machine-learning/guides/rules-of-ml#training-serving_skew).\n",
        "\n",
        "There is a performance difference to keep in mind when choosing where to apply your `TextVectorization` layer. Using it outside of your model enables you to do asynchronous CPU processing and buffering of your data when training on GPU. So, if you're training your model on the GPU, you probably want to go with this option to get the best performance while developing your model, then switch to including the TextVectorization layer inside your model when you're ready to prepare for deployment.\n",
        "\n",
        "Visit this [tutorial](https://www.tensorflow.org/tutorials/keras/save_and_load) to learn more about saving models."
      ],
      "metadata": {
        "id": "0QDVfii_4slI"
      }
    },
    {
      "cell_type": "markdown",
      "source": [
        "## Example 2: Predict the author of Illiad translations \n"
      ],
      "metadata": {
        "id": "p4cvuFzavTRy"
      }
    },
    {
      "cell_type": "markdown",
      "source": [
        "The following provides an example of using `tf.data.TextLineDataset` to load examples from text files, and `tf.text` to preprocess the data. In this example, you will use three different English translations of the same work, Homer's Illiad, and train a model to identify the translator given a single line of text."
      ],
      "metadata": {
        "id": "fOlJ22508RIe"
      }
    },
    {
      "cell_type": "markdown",
      "source": [
        "### Download and explore the dataset\n",
        "\n",
        "The texts of the three translations are by:\n",
        "\n",
        " - [William Cowper](https://en.wikipedia.org/wiki/William_Cowper) — [text](https://storage.googleapis.com/download.tensorflow.org/data/illiad/cowper.txt)\n",
        "\n",
        " - [Edward, Earl of Derby](https://en.wikipedia.org/wiki/Edward_Smith-Stanley,_14th_Earl_of_Derby) — [text](https://storage.googleapis.com/download.tensorflow.org/data/illiad/derby.txt)\n",
        "\n",
        "- [Samuel Butler](https://en.wikipedia.org/wiki/Samuel_Butler_%28novelist%29) — [text](https://storage.googleapis.com/download.tensorflow.org/data/illiad/butler.txt)\n",
        "\n",
        "The text files used in this tutorial have undergone some typical preprocessing tasks like removing document header and footer, line numbers and chapter titles. Download these lightly munged files locally."
      ],
      "metadata": {
        "id": "-pCgKbOSk7kU"
      }
    },
    {
      "cell_type": "code",
      "execution_count": null,
      "source": [
        "DIRECTORY_URL = 'https://storage.googleapis.com/download.tensorflow.org/data/illiad/'\r\n",
        "FILE_NAMES = ['cowper.txt', 'derby.txt', 'butler.txt']\r\n",
        "\r\n",
        "for name in FILE_NAMES:\r\n",
        "  text_dir = utils.get_file(name, origin=DIRECTORY_URL + name)\r\n",
        "\r\n",
        "parent_dir = pathlib.Path(text_dir).parent\r\n",
        "list(parent_dir.iterdir())"
      ],
      "outputs": [],
      "metadata": {
        "id": "4YlKQthEYlFw"
      }
    },
    {
      "cell_type": "markdown",
      "source": [
        "### Load the dataset\n",
        "\n",
        "You will use `TextLineDataset`, which is designed to create a `tf.data.Dataset` from a text file in which each example is a line of text from the original file, whereas `text_dataset_from_directory` treats all contents of a file as a single example. `TextLineDataset` is useful for text data that is primarily line-based (for example, poetry or error logs). \n",
        "\n",
        "Iterate through these files, loading each one into its own dataset. Each example needs to be individually labeled, so use `tf.data.Dataset.map` to apply a labeler function to each one. This will iterate over every example in the dataset, returning (`example, label`) pairs."
      ],
      "metadata": {
        "id": "M8PHK5J_cXE5"
      }
    },
    {
      "cell_type": "code",
      "execution_count": null,
      "source": [
        "def labeler(example, index):\r\n",
        "  return example, tf.cast(index, tf.int64)"
      ],
      "outputs": [],
      "metadata": {
        "id": "YIIWIdPXgk7I"
      }
    },
    {
      "cell_type": "code",
      "execution_count": null,
      "source": [
        "labeled_data_sets = []\r\n",
        "\r\n",
        "for i, file_name in enumerate(FILE_NAMES):\r\n",
        "  lines_dataset = tf.data.TextLineDataset(str(parent_dir/file_name))\r\n",
        "  labeled_dataset = lines_dataset.map(lambda ex: labeler(ex, i))\r\n",
        "  labeled_data_sets.append(labeled_dataset)"
      ],
      "outputs": [],
      "metadata": {
        "id": "8Ajx7AmZnEg3"
      }
    },
    {
      "cell_type": "markdown",
      "source": [
        "Next, you'll combine these labeled datasets into a single dataset, and shuffle it.\n"
      ],
      "metadata": {
        "id": "wPOsVK1e9NGM"
      }
    },
    {
      "cell_type": "code",
      "execution_count": null,
      "source": [
        "BUFFER_SIZE = 50000\r\n",
        "BATCH_SIZE = 64\r\n",
        "VALIDATION_SIZE = 5000"
      ],
      "outputs": [],
      "metadata": {
        "id": "6jAeYkTIi9-2"
      }
    },
    {
      "cell_type": "code",
      "execution_count": null,
      "source": [
        "all_labeled_data = labeled_data_sets[0]\r\n",
        "for labeled_dataset in labeled_data_sets[1:]:\r\n",
        "  all_labeled_data = all_labeled_data.concatenate(labeled_dataset)\r\n",
        "\r\n",
        "all_labeled_data = all_labeled_data.shuffle(\r\n",
        "    BUFFER_SIZE, reshuffle_each_iteration=False)"
      ],
      "outputs": [],
      "metadata": {
        "id": "Qd544E-Sh63L"
      }
    },
    {
      "cell_type": "markdown",
      "source": [
        "Print out a few examples as before. The dataset hasn't been batched yet, hence each entry in `all_labeled_data` corresponds to one data point:"
      ],
      "metadata": {
        "id": "r4JEHrJXeG5k"
      }
    },
    {
      "cell_type": "code",
      "execution_count": null,
      "source": [
        "for text, label in all_labeled_data.take(10):\r\n",
        "  print(\"Sentence: \", text.numpy())\r\n",
        "  print(\"Label:\", label.numpy())"
      ],
      "outputs": [],
      "metadata": {
        "id": "gywKlN0xh6u5"
      }
    },
    {
      "cell_type": "markdown",
      "source": [
        "### Prepare the dataset for training\n",
        "\n",
        "Instead of using the Keras `TextVectorization` layer to preprocess our text dataset, you will now use the [`tf.text` API](https://www.tensorflow.org/tutorials/tensorflow_text/intro) to standardize and tokenize the data, build a vocabulary and use `StaticVocabularyTable` to map tokens to integers to feed to the model.\n",
        "\n",
        "While tf.text provides various tokenizers, you will use the `UnicodeScriptTokenizer` to tokenize our dataset. Define a function to convert the text to lower-case and tokenize it. You will use `tf.data.Dataset.map` to apply the tokenization to the dataset."
      ],
      "metadata": {
        "id": "5rrpU2_sfDh0"
      }
    },
    {
      "cell_type": "code",
      "execution_count": null,
      "source": [
        "tokenizer = tf_text.UnicodeScriptTokenizer()"
      ],
      "outputs": [],
      "metadata": {
        "id": "v4DpQW-Y12rm"
      }
    },
    {
      "cell_type": "code",
      "execution_count": null,
      "source": [
        "def tokenize(text, unused_label):\r\n",
        "  lower_case = tf_text.case_fold_utf8(text)\r\n",
        "  return tokenizer.tokenize(lower_case)"
      ],
      "outputs": [],
      "metadata": {
        "id": "pz8xEj0ugu51"
      }
    },
    {
      "cell_type": "code",
      "execution_count": null,
      "source": [
        "tokenized_ds = all_labeled_data.map(tokenize)"
      ],
      "outputs": [],
      "metadata": {
        "id": "vzUrAzOq31QL"
      }
    },
    {
      "cell_type": "markdown",
      "source": [
        "You can iterate over the dataset and print out a few tokenized examples.\n"
      ],
      "metadata": {
        "id": "jx4Q2i8XLV7o"
      }
    },
    {
      "cell_type": "code",
      "execution_count": null,
      "source": [
        "for text_batch in tokenized_ds.take(5):\r\n",
        "  print(\"Tokens: \", text_batch.numpy())"
      ],
      "outputs": [],
      "metadata": {
        "id": "g2mkWri7LiGq"
      }
    },
    {
      "cell_type": "markdown",
      "source": [
        "Next, you will build a vocabulary by sorting tokens by frequency and keeping the top `VOCAB_SIZE` tokens."
      ],
      "metadata": {
        "id": "JPd4PsskJ_Xt"
      }
    },
    {
      "cell_type": "code",
      "execution_count": null,
      "source": [
        "tokenized_ds = configure_dataset(tokenized_ds)\r\n",
        "\r\n",
        "vocab_dict = collections.defaultdict(lambda: 0)\r\n",
        "for toks in tokenized_ds.as_numpy_iterator():\r\n",
        "  for tok in toks:\r\n",
        "    vocab_dict[tok] += 1\r\n",
        "\r\n",
        "vocab = sorted(vocab_dict.items(), key=lambda x: x[1], reverse=True)\r\n",
        "vocab = [token for token, count in vocab]\r\n",
        "vocab = vocab[:VOCAB_SIZE]\r\n",
        "vocab_size = len(vocab)\r\n",
        "print(\"Vocab size: \", vocab_size)\r\n",
        "print(\"First five vocab entries:\", vocab[:5])"
      ],
      "outputs": [],
      "metadata": {
        "id": "YkHtbGnDh6mg"
      }
    },
    {
      "cell_type": "markdown",
      "source": [
        "To convert the tokens into integers, use the `vocab` set to create a `StaticVocabularyTable`. You will map tokens to integers in the range [`2`, `vocab_size + 2`]. As with the `TextVectorization` layer, `0` is reserved to denote padding and `1` is reserved to denote an out-of-vocabulary (OOV) token."
      ],
      "metadata": {
        "id": "PyKSsaNAKi17"
      }
    },
    {
      "cell_type": "code",
      "execution_count": null,
      "source": [
        "keys = vocab\r\n",
        "values = range(2, len(vocab) + 2)  # reserve 0 for padding, 1 for OOV\r\n",
        "\r\n",
        "init = tf.lookup.KeyValueTensorInitializer(\r\n",
        "    keys, values, key_dtype=tf.string, value_dtype=tf.int64)\r\n",
        "\r\n",
        "num_oov_buckets = 1\r\n",
        "vocab_table = tf.lookup.StaticVocabularyTable(init, num_oov_buckets)"
      ],
      "outputs": [],
      "metadata": {
        "id": "kCBo2yFHD7y6"
      }
    },
    {
      "cell_type": "markdown",
      "source": [
        "Finally, define a fuction to standardize, tokenize and vectorize the dataset using the tokenizer and lookup table:"
      ],
      "metadata": {
        "id": "Z5F-EiBpOADE"
      }
    },
    {
      "cell_type": "code",
      "execution_count": null,
      "source": [
        "def preprocess_text(text, label):\r\n",
        "  standardized = tf_text.case_fold_utf8(text)\r\n",
        "  tokenized = tokenizer.tokenize(standardized)\r\n",
        "  vectorized = vocab_table.lookup(tokenized)\r\n",
        "  return vectorized, label"
      ],
      "outputs": [],
      "metadata": {
        "id": "HcIQ7LOTh6eT"
      }
    },
    {
      "cell_type": "markdown",
      "source": [
        "You can try this on a single example to see the output:"
      ],
      "metadata": {
        "id": "v6S5Qyabi-vo"
      }
    },
    {
      "cell_type": "code",
      "execution_count": null,
      "source": [
        "example_text, example_label = next(iter(all_labeled_data))\r\n",
        "print(\"Sentence: \", example_text.numpy())\r\n",
        "vectorized_text, example_label = preprocess_text(example_text, example_label)\r\n",
        "print(\"Vectorized sentence: \", vectorized_text.numpy())"
      ],
      "outputs": [],
      "metadata": {
        "id": "jgxPZaxUuTbk"
      }
    },
    {
      "cell_type": "markdown",
      "source": [
        "Now run the preprocess function on the dataset using `tf.data.Dataset.map`."
      ],
      "metadata": {
        "id": "p9qHM0v8k_Mg"
      }
    },
    {
      "cell_type": "code",
      "execution_count": null,
      "source": [
        "all_encoded_data = all_labeled_data.map(preprocess_text)"
      ],
      "outputs": [],
      "metadata": {
        "id": "KmQVsAgJ-RM0"
      }
    },
    {
      "cell_type": "markdown",
      "source": [
        "### Split the dataset into train and test\n"
      ],
      "metadata": {
        "id": "_YZToSXSm0qr"
      }
    },
    {
      "cell_type": "markdown",
      "source": [
        "The Keras `TextVectorization` layer also batches and pads the vectorized data. Padding is required because the examples inside of a batch need to be the same size and shape, but the examples in these datasets are not all the same size — each line of text has a different number of words. `tf.data.Dataset` supports splitting and padded-batching datasets: "
      ],
      "metadata": {
        "id": "itxIJwkrUXgv"
      }
    },
    {
      "cell_type": "code",
      "execution_count": null,
      "source": [
        "train_data = all_encoded_data.skip(VALIDATION_SIZE).shuffle(BUFFER_SIZE)\r\n",
        "validation_data = all_encoded_data.take(VALIDATION_SIZE)"
      ],
      "outputs": [],
      "metadata": {
        "id": "r-rmbijQh6bf"
      }
    },
    {
      "cell_type": "code",
      "execution_count": null,
      "source": [
        "train_data = train_data.padded_batch(BATCH_SIZE)\r\n",
        "validation_data = validation_data.padded_batch(BATCH_SIZE)"
      ],
      "outputs": [],
      "metadata": {
        "id": "qTP0IwHBCn0Q"
      }
    },
    {
      "cell_type": "markdown",
      "source": [
        "Now, `validation_data` and `train_data` are not collections of (`example, label`) pairs, but collections of batches. Each batch is a pair of (*many examples*, *many labels*) represented as arrays. To illustrate:"
      ],
      "metadata": {
        "id": "m-wmFq8uW1zS"
      }
    },
    {
      "cell_type": "code",
      "execution_count": null,
      "source": [
        "sample_text, sample_labels = next(iter(validation_data))\r\n",
        "print(\"Text batch shape: \", sample_text.shape)\r\n",
        "print(\"Label batch shape: \", sample_labels.shape)\r\n",
        "print(\"First text example: \", sample_text[0])\r\n",
        "print(\"First label example: \", sample_labels[0])"
      ],
      "outputs": [],
      "metadata": {
        "id": "kMslWfuwoqpB"
      }
    },
    {
      "cell_type": "markdown",
      "source": [
        "Since we use `0` for padding and `1` for out-of-vocabulary (OOV) tokens, the vocabulary size has increased by two."
      ],
      "metadata": {
        "id": "UI4I6_Sa0vWu"
      }
    },
    {
      "cell_type": "code",
      "execution_count": null,
      "source": [
        "vocab_size += 2"
      ],
      "outputs": [],
      "metadata": {
        "id": "u21LlkO8QGRX"
      }
    },
    {
      "cell_type": "markdown",
      "source": [
        "Configure the datasets for better performance as before."
      ],
      "metadata": {
        "id": "h44Ox11OYLP-"
      }
    },
    {
      "cell_type": "code",
      "execution_count": null,
      "source": [
        "train_data = configure_dataset(train_data)\r\n",
        "validation_data = configure_dataset(validation_data)"
      ],
      "outputs": [],
      "metadata": {
        "id": "BpT0b_7mYRXV"
      }
    },
    {
      "cell_type": "markdown",
      "source": [
        "### Train the model\n",
        "You can train a model on this dataset as before."
      ],
      "metadata": {
        "id": "K8SUhGFNsmRi"
      }
    },
    {
      "cell_type": "code",
      "execution_count": null,
      "source": [
        "model = create_model(vocab_size=vocab_size, num_labels=3)\r\n",
        "model.compile(\r\n",
        "    optimizer='adam',\r\n",
        "    loss=losses.SparseCategoricalCrossentropy(from_logits=True),\r\n",
        "    metrics=['accuracy'])\r\n",
        "history = model.fit(train_data, validation_data=validation_data, epochs=3)"
      ],
      "outputs": [],
      "metadata": {
        "id": "QJgI1pow2YR9"
      }
    },
    {
      "cell_type": "code",
      "execution_count": null,
      "source": [
        "loss, accuracy = model.evaluate(validation_data)\r\n",
        "\r\n",
        "print(\"Loss: \", loss)\r\n",
        "print(\"Accuracy: {:2.2%}\".format(accuracy))"
      ],
      "outputs": [],
      "metadata": {
        "id": "KTPCYf_Jh6TH"
      }
    },
    {
      "cell_type": "markdown",
      "source": [
        "### Export the model"
      ],
      "metadata": {
        "id": "_knIsO-r4pHb"
      }
    },
    {
      "cell_type": "markdown",
      "source": [
        "To make our model capable to taking raw strings as input, you will create a `TextVectorization` layer that performs the same steps as our custom preprocessing function. Since you already trained a vocabulary, you can use `set_vocaublary` instead of `adapt` which trains a new vocabulary."
      ],
      "metadata": {
        "id": "FEuMLJA_Xiwo"
      }
    },
    {
      "cell_type": "code",
      "execution_count": null,
      "source": [
        "preprocess_layer = TextVectorization(\r\n",
        "    max_tokens=vocab_size,\r\n",
        "    standardize=tf_text.case_fold_utf8,\r\n",
        "    split=tokenizer.tokenize,\r\n",
        "    output_mode='int',\r\n",
        "    output_sequence_length=MAX_SEQUENCE_LENGTH)\r\n",
        "preprocess_layer.set_vocabulary(vocab)"
      ],
      "outputs": [],
      "metadata": {
        "id": "_ODkRXbk6aHb"
      }
    },
    {
      "cell_type": "code",
      "execution_count": null,
      "source": [
        "export_model = tf.keras.Sequential(\r\n",
        "    [preprocess_layer, model,\r\n",
        "     layers.Activation('softmax')])\r\n",
        "\r\n",
        "export_model.compile(\r\n",
        "    loss=losses.SparseCategoricalCrossentropy(from_logits=False),\r\n",
        "    optimizer='adam',\r\n",
        "    metrics=['accuracy'])"
      ],
      "outputs": [],
      "metadata": {
        "id": "G-Cvd27y4qwt"
      }
    },
    {
      "cell_type": "code",
      "execution_count": null,
      "source": [
        "# Create a test dataset of raw strings\r\n",
        "test_ds = all_labeled_data.take(VALIDATION_SIZE).batch(BATCH_SIZE)\r\n",
        "test_ds = configure_dataset(test_ds)\r\n",
        "loss, accuracy = export_model.evaluate(test_ds)\r\n",
        "print(\"Loss: \", loss)\r\n",
        "print(\"Accuracy: {:2.2%}\".format(accuracy))"
      ],
      "outputs": [],
      "metadata": {
        "id": "Pyg0B4zsc-UD"
      }
    },
    {
      "cell_type": "markdown",
      "source": [
        "The loss and accuracy for the model on encoded validation set and the exported model on the raw validation set are the same, as expected."
      ],
      "metadata": {
        "id": "o6Mm0Y9QYQwE"
      }
    },
    {
      "cell_type": "markdown",
      "source": [
        "### Run inference on new data"
      ],
      "metadata": {
        "id": "Stk2BP8GE-qo"
      }
    },
    {
      "cell_type": "code",
      "execution_count": null,
      "source": [
        "inputs = [\r\n",
        "    \"Join'd to th' Ionians with their flowing robes,\",  # Label: 1\r\n",
        "    \"the allies, and his armour flashed about him so that he seemed to all\",  # Label: 2\r\n",
        "    \"And with loud clangor of his arms he fell.\",  # Label: 0\r\n",
        "]\r\n",
        "predicted_scores = export_model.predict(inputs)\r\n",
        "predicted_labels = tf.argmax(predicted_scores, axis=1)\r\n",
        "for input, label in zip(inputs, predicted_labels):\r\n",
        "  print(\"Question: \", input)\r\n",
        "  print(\"Predicted label: \", label.numpy())"
      ],
      "outputs": [],
      "metadata": {
        "id": "-w1fQGJPD2Yh"
      }
    },
    {
      "cell_type": "markdown",
      "source": [
        "## Downloading more datasets using TensorFlow Datasets (TFDS)\n"
      ],
      "metadata": {
        "id": "9eA8TVdnA-3L"
      }
    },
    {
      "cell_type": "markdown",
      "source": [
        "You can download many more datasets from [TensorFlow Datasets](https://www.tensorflow.org/datasets/catalog/overview). As an example, you will download the [IMDB Large Movie Review dataset](https://www.tensorflow.org/datasets/catalog/imdb_reviews), and use it to train a model for sentiment classification."
      ],
      "metadata": {
        "id": "2QFSxfZ3Vqsn"
      }
    },
    {
      "cell_type": "code",
      "execution_count": null,
      "source": [
        "train_ds = tfds.load(\r\n",
        "    'imdb_reviews',\r\n",
        "    split='train[:80%]',\r\n",
        "    batch_size=BATCH_SIZE,\r\n",
        "    shuffle_files=True,\r\n",
        "    as_supervised=True)"
      ],
      "outputs": [],
      "metadata": {
        "id": "NzC65LOaVw0B"
      }
    },
    {
      "cell_type": "code",
      "execution_count": null,
      "source": [
        "val_ds = tfds.load(\r\n",
        "    'imdb_reviews',\r\n",
        "    split='train[80%:]',\r\n",
        "    batch_size=BATCH_SIZE,\r\n",
        "    shuffle_files=True,\r\n",
        "    as_supervised=True)"
      ],
      "outputs": [],
      "metadata": {
        "id": "XKGkgPBkFh0k"
      }
    },
    {
      "cell_type": "markdown",
      "source": [
        "Print a few examples."
      ],
      "metadata": {
        "id": "BQjf3YZAb5Ne"
      }
    },
    {
      "cell_type": "code",
      "execution_count": null,
      "source": [
        "for review_batch, label_batch in val_ds.take(1):\r\n",
        "  for i in range(5):\r\n",
        "    print(\"Review: \", review_batch[i].numpy())\r\n",
        "    print(\"Label: \", label_batch[i].numpy())"
      ],
      "outputs": [],
      "metadata": {
        "id": "Bq1w8MnfWt2C"
      }
    },
    {
      "cell_type": "markdown",
      "source": [
        "You can now preprocess the data and train a model as before. \n",
        "\n",
        "Note: You will use `losses.BinaryCrossentropy` instead of `losses.SparseCategoricalCrossentropy` for your model since this is a binary classification problem."
      ],
      "metadata": {
        "id": "q-lVaukyb75k"
      }
    },
    {
      "cell_type": "markdown",
      "source": [
        "### Prepare the dataset for training"
      ],
      "metadata": {
        "id": "ciz2CxAsZw3Z"
      }
    },
    {
      "cell_type": "code",
      "execution_count": null,
      "source": [
        "vectorize_layer = TextVectorization(\r\n",
        "    max_tokens=VOCAB_SIZE,\r\n",
        "    output_mode='int',\r\n",
        "    output_sequence_length=MAX_SEQUENCE_LENGTH)\r\n",
        "\r\n",
        "# Make a text-only dataset (without labels), then call adapt\r\n",
        "train_text = train_ds.map(lambda text, labels: text)\r\n",
        "vectorize_layer.adapt(train_text)"
      ],
      "outputs": [],
      "metadata": {
        "id": "UzT_t9ihZLH4"
      }
    },
    {
      "cell_type": "code",
      "execution_count": null,
      "source": [
        "def vectorize_text(text, label):\r\n",
        "  text = tf.expand_dims(text, -1)\r\n",
        "  return vectorize_layer(text), label"
      ],
      "outputs": [],
      "metadata": {
        "id": "zz-Xrd_ZZ4tB"
      }
    },
    {
      "cell_type": "code",
      "execution_count": null,
      "source": [
        "train_ds = train_ds.map(vectorize_text)\r\n",
        "val_ds = val_ds.map(vectorize_text)"
      ],
      "outputs": [],
      "metadata": {
        "id": "ycn0Itd6g5aF"
      }
    },
    {
      "cell_type": "code",
      "execution_count": null,
      "source": [
        "# Configure datasets for performance as before\r\n",
        "train_ds = configure_dataset(train_ds)\r\n",
        "val_ds = configure_dataset(val_ds)"
      ],
      "outputs": [],
      "metadata": {
        "id": "jc11jQTlZ5lj"
      }
    },
    {
      "cell_type": "markdown",
      "source": [
        "### Train the model"
      ],
      "metadata": {
        "id": "SQzoYkaGZ82Z"
      }
    },
    {
      "cell_type": "code",
      "execution_count": null,
      "source": [
        "model = create_model(vocab_size=VOCAB_SIZE + 1, num_labels=1)\r\n",
        "model.summary()"
      ],
      "outputs": [],
      "metadata": {
        "id": "B9IOTLkyZ-a7"
      }
    },
    {
      "cell_type": "code",
      "execution_count": null,
      "source": [
        "model.compile(\r\n",
        "    loss=losses.BinaryCrossentropy(from_logits=True),\r\n",
        "    optimizer='adam',\r\n",
        "    metrics=['accuracy'])"
      ],
      "outputs": [],
      "metadata": {
        "id": "xLnDs5dhaBAk"
      }
    },
    {
      "cell_type": "code",
      "execution_count": null,
      "source": [
        "history = model.fit(train_ds, validation_data=val_ds, epochs=3)"
      ],
      "outputs": [],
      "metadata": {
        "id": "rq59QpNzaDMa"
      }
    },
    {
      "cell_type": "code",
      "execution_count": null,
      "source": [
        "loss, accuracy = model.evaluate(val_ds)\r\n",
        "\r\n",
        "print(\"Loss: \", loss)\r\n",
        "print(\"Accuracy: {:2.2%}\".format(accuracy))"
      ],
      "outputs": [],
      "metadata": {
        "id": "gCMWCEtyaEbR"
      }
    },
    {
      "cell_type": "markdown",
      "source": [
        "### Export the model"
      ],
      "metadata": {
        "id": "jGtqLXVnaaFy"
      }
    },
    {
      "cell_type": "code",
      "execution_count": null,
      "source": [
        "export_model = tf.keras.Sequential(\r\n",
        "    [vectorize_layer, model,\r\n",
        "     layers.Activation('sigmoid')])\r\n",
        "\r\n",
        "export_model.compile(\r\n",
        "    loss=losses.BinaryCrossentropy(from_logits=False),\r\n",
        "    optimizer='adam',\r\n",
        "    metrics=['accuracy'])"
      ],
      "outputs": [],
      "metadata": {
        "id": "yE9WZARZaZr1"
      }
    },
    {
      "cell_type": "code",
      "execution_count": null,
      "source": [
        "# 0 --> negative review\r\n",
        "# 1 --> positive review\r\n",
        "inputs = [\r\n",
        "    \"This is a fantastic movie.\",\r\n",
        "    \"This is a bad movie.\",\r\n",
        "    \"This movie was so bad that it was good.\",\r\n",
        "    \"I will never say yes to watching this movie.\",\r\n",
        "]\r\n",
        "predicted_scores = export_model.predict(inputs)\r\n",
        "predicted_labels = [int(round(x[0])) for x in predicted_scores]\r\n",
        "for input, label in zip(inputs, predicted_labels):\r\n",
        "  print(\"Question: \", input)\r\n",
        "  print(\"Predicted label: \", label)"
      ],
      "outputs": [],
      "metadata": {
        "id": "bhF8tDH-afoC"
      }
    },
    {
      "cell_type": "markdown",
      "source": [
        "## Conclusion\n",
        "\n",
        "This tutorial demonstrated several ways to load and preprocess text. As a next step, you can explore additional tutorials on the website, or download new datasets from [TensorFlow Datasets](https://www.tensorflow.org/datasets/catalog/overview)."
      ],
      "metadata": {
        "id": "q1KSXDFPWiPN"
      }
    }
  ],
  "metadata": {
    "accelerator": "GPU",
    "colab": {
      "collapsed_sections": [],
      "name": "text.ipynb",
      "toc_visible": true
    },
    "kernelspec": {
      "display_name": "Python 3",
      "name": "python3"
    }
  },
  "nbformat": 4,
  "nbformat_minor": 2
}