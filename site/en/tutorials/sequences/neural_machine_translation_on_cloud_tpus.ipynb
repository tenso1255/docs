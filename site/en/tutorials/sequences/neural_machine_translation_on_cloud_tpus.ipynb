{
  "nbformat": 4,
  "nbformat_minor": 0,
  "metadata": {
    "colab": {
      "name": "neural machine translation on cloud tpus",
      "version": "0.3.2",
      "provenance": [],
      "collapsed_sections": []
    },
    "kernelspec": {
      "name": "python3",
      "display_name": "Python 3"
    },
    "accelerator": "TPU"
  },
  "cells": [
    {
      "cell_type": "markdown",
      "metadata": {
        "id": "oOEk20_fG3B9",
        "colab_type": "text"
      },
      "source": [
        "# TensorFlow Neural Machine Translation on Cloud TPUs\n",
        "\n",
        "This tutorial demonstrates how to translate text using a LSTM Network from one language to another (from English to German in this case). We will work with a dataset that contains pairs of English-German phrases. Given a sequence of words in English, we train a model to predict the German equivalent in the sequence.\n",
        "\n",
        "Note: Enable TPU acceleration to execute this notebook faster. In Colab: *Runtime > Change runtime type > Hardware acclerator > TPU. If running locally make sure TensorFlow version >= 1.11.\n",
        "\n",
        "This tutorial includes runnable code implemented using [tf.keras](https://www.tensorflow.org/programmers_guide/keras)."
      ]
    },
    {
      "cell_type": "code",
      "metadata": {
        "id": "7njQiFR4GvVu",
        "colab_type": "code",
        "colab": {
          "base_uri": "https://localhost:8080/",
          "height": 272
        },
        "outputId": "b8940325-961e-4306-888f-040450b7c979"
      },
      "source": [
        "!ls\n",
        "!wget http://www.manythings.org/anki/deu-eng.zip\n",
        "!unzip deu-eng.zip"
      ],
      "execution_count": 2,
      "outputs": [
        {
          "output_type": "stream",
          "text": [
            "sample_data\n",
            "--2019-08-11 12:27:55--  http://www.manythings.org/anki/deu-eng.zip\n",
            "Resolving www.manythings.org (www.manythings.org)... 104.24.109.196, 104.24.108.196, 2606:4700:30::6818:6cc4, ...\n",
            "Connecting to www.manythings.org (www.manythings.org)|104.24.109.196|:80... connected.\n",
            "HTTP request sent, awaiting response... 200 OK\n",
            "Length: 4541707 (4.3M) [application/zip]\n",
            "Saving to: ‘deu-eng.zip’\n",
            "\n",
            "deu-eng.zip         100%[===================>]   4.33M  15.2MB/s    in 0.3s    \n",
            "\n",
            "2019-08-11 12:27:55 (15.2 MB/s) - ‘deu-eng.zip’ saved [4541707/4541707]\n",
            "\n",
            "Archive:  deu-eng.zip\n",
            "  inflating: deu.txt                 \n",
            "  inflating: _about.txt              \n"
          ],
          "name": "stdout"
        }
      ]
    },
    {
      "cell_type": "code",
      "metadata": {
        "id": "VDKbicZCG1u4",
        "colab_type": "code",
        "colab": {
          "base_uri": "https://localhost:8080/",
          "height": 187
        },
        "outputId": "3c69b962-89cc-44dd-e1cc-d2c3f6550ad9"
      },
      "source": [
        "!head deu.txt"
      ],
      "execution_count": 3,
      "outputs": [
        {
          "output_type": "stream",
          "text": [
            "Hi.\tHallo!\n",
            "Hi.\tGrüß Gott!\n",
            "Run!\tLauf!\n",
            "Wow!\tPotzdonner!\n",
            "Wow!\tDonnerwetter!\n",
            "Fire!\tFeuer!\n",
            "Help!\tHilfe!\n",
            "Help!\tZu Hülf!\n",
            "Stop!\tStopp!\n",
            "Wait!\tWarte!\n"
          ],
          "name": "stdout"
        }
      ]
    },
    {
      "cell_type": "markdown",
      "metadata": {
        "id": "1UA_LkfdIDco",
        "colab_type": "text"
      },
      "source": [
        "### Importing TensorFlow and other libraries"
      ]
    },
    {
      "cell_type": "code",
      "metadata": {
        "id": "YrUkkyKmE6_1",
        "colab_type": "code",
        "colab": {}
      },
      "source": [
        "import string\n",
        "import numpy as np\n",
        "from numpy import array\n",
        "import pandas as pd\n",
        "import tensorflow as tf\n",
        "from tensorflow.keras.models import Sequential, load_model\n",
        "from tensorflow.keras.layers import Dense, Embedding, RepeatVector, LSTM\n",
        "from tensorflow.keras.optimizers import RMSprop\n",
        "from tensorflow.keras.preprocessing.text import Tokenizer\n",
        "from tensorflow.keras.preprocessing.sequence import pad_sequences\n",
        "from sklearn.model_selection import train_test_split\n",
        "import matplotlib.pyplot as plt"
      ],
      "execution_count": 0,
      "outputs": []
    },
    {
      "cell_type": "markdown",
      "metadata": {
        "id": "UZfpxwubIc5R",
        "colab_type": "text"
      },
      "source": [
        "### Extracting lines from dataset and into array\n",
        "\n",
        "Here, we can examine how the dataset is structures. The English-German dataset comprises of an English and German phrase separted by a tab `\\t`"
      ]
    },
    {
      "cell_type": "code",
      "metadata": {
        "id": "jVuZy_JTF8Oo",
        "colab_type": "code",
        "colab": {
          "base_uri": "https://localhost:8080/",
          "height": 102
        },
        "outputId": "3b9aae8e-9fef-427d-95c3-12e996e8c958"
      },
      "source": [
        "deu_eng = open('./deu.txt', mode='rt', encoding='utf-8')\n",
        "deu_eng = deu_eng.read()\n",
        "deu_eng = deu_eng.strip().split('\\n')\n",
        "deu_eng = [i.split('\\t') for i in deu_eng]\n",
        "deu_eng = array(deu_eng)\n",
        "deu_eng = deu_eng[:50000, :]\n",
        "print (deu_eng[:5])"
      ],
      "execution_count": 5,
      "outputs": [
        {
          "output_type": "stream",
          "text": [
            "[['Hi.' 'Hallo!']\n",
            " ['Hi.' 'Grüß Gott!']\n",
            " ['Run!' 'Lauf!']\n",
            " ['Wow!' 'Potzdonner!']\n",
            " ['Wow!' 'Donnerwetter!']]\n"
          ],
          "name": "stdout"
        }
      ]
    },
    {
      "cell_type": "markdown",
      "metadata": {
        "id": "7mqGMosWJIP7",
        "colab_type": "text"
      },
      "source": [
        "### Removing punctuation\n",
        "\n",
        "We will be removing punctuation from the phrases and converting them to lowercase. We will not be creating embeddings for punctuations or uppercase characters as it adds to the complexity of the NMT model"
      ]
    },
    {
      "cell_type": "code",
      "metadata": {
        "id": "blqRhSTmJF_A",
        "colab_type": "code",
        "colab": {
          "base_uri": "https://localhost:8080/",
          "height": 102
        },
        "outputId": "7e996abd-17b6-430a-f254-ec0862f166c6"
      },
      "source": [
        "deu_eng[:, 0] = [s.translate((str.maketrans('', '', string.punctuation))) for s in deu_eng[:, 0]]\n",
        "deu_eng[:, 1] = [s.translate((str.maketrans('', '', string.punctuation))) for s in deu_eng[:, 1]]\n",
        "\n",
        "for i in range(len(deu_eng)):\n",
        "    deu_eng[i, 0] = deu_eng[i, 0].lower()\n",
        "    deu_eng[i, 1] = deu_eng[i, 1].lower()\n",
        "\n",
        "print (deu_eng[:5])"
      ],
      "execution_count": 6,
      "outputs": [
        {
          "output_type": "stream",
          "text": [
            "[['hi' 'hallo']\n",
            " ['hi' 'grüß gott']\n",
            " ['run' 'lauf']\n",
            " ['wow' 'potzdonner']\n",
            " ['wow' 'donnerwetter']]\n"
          ],
          "name": "stdout"
        }
      ]
    },
    {
      "cell_type": "markdown",
      "metadata": {
        "id": "vqWZWUAwJcjE",
        "colab_type": "text"
      },
      "source": [
        "### Tokenising the phrases\n",
        "\n",
        "Tokenisation is the process of taking a sequence and chopping it up into smaller pieces called `tokens`. For example, suppose we have a sentence \n",
        "\n",
        "`\"Bob returned home after the party\"`\n",
        "\n",
        "The tokenised sentence will return an array with the tokens:\n",
        "\n",
        "`[\"Bob\", \"returned\", \"home\", \"after\", \"the\", \"party\"]`\n",
        "\n",
        "In this section, we will be breaking up the phrases into tokenised sequences that comprises of numbers for each unique word. For instance, the word \"good\" may have the value of 32 while the word \"boy\" may have the value of 46. Supposing the phrase is \"good boy\", the tokenised sequence is `[32, 46]`."
      ]
    },
    {
      "cell_type": "code",
      "metadata": {
        "id": "LWlZwu6PJa9p",
        "colab_type": "code",
        "colab": {
          "base_uri": "https://localhost:8080/",
          "height": 51
        },
        "outputId": "7a68603d-f177-4ef0-8f0b-c610a828b865"
      },
      "source": [
        "def tokenize(lines):\n",
        "    tokenizer = Tokenizer()\n",
        "    tokenizer.fit_on_texts(lines)\n",
        "    \n",
        "    return tokenizer\n",
        "    \n",
        "eng_tokenizer = tokenize(deu_eng[:, 0])\n",
        "eng_vocab_size = len(eng_tokenizer.word_index) + 1\n",
        "eng_sequence_length = 8\n",
        "print ('English vocabulary size: {}'.format(eng_vocab_size))\n",
        "\n",
        "deu_tokenizer = tokenize(deu_eng[:, 1])\n",
        "deu_vocab_size = len(deu_tokenizer.word_index) + 1\n",
        "deu_sequence_length = 8\n",
        "print ('German vocabulary size: {}'.format(deu_vocab_size))"
      ],
      "execution_count": 7,
      "outputs": [
        {
          "output_type": "stream",
          "text": [
            "English vocabulary size: 6352\n",
            "German vocabulary size: 10678\n"
          ],
          "name": "stdout"
        }
      ]
    },
    {
      "cell_type": "markdown",
      "metadata": {
        "id": "bv6jcJsvK0AR",
        "colab_type": "text"
      },
      "source": [
        "### Convert lines into sequences as input for the NMT model\n",
        "\n",
        "We will now be using our Tokeniser to create tokenised sequences of the original English and German phrases from our dataset."
      ]
    },
    {
      "cell_type": "code",
      "metadata": {
        "id": "fM20OwUtKs4e",
        "colab_type": "code",
        "colab": {}
      },
      "source": [
        "def encode_sequences(tokenizer, sequence_length, lines):\n",
        "    sequence = tokenizer.texts_to_sequences(lines)\n",
        "    sequence = pad_sequences(sequence, sequence_length, padding=\"post\") # 0s after the actual sequence\n",
        "    return sequence"
      ],
      "execution_count": 0,
      "outputs": []
    },
    {
      "cell_type": "markdown",
      "metadata": {
        "id": "m2kHwXOBLFEX",
        "colab_type": "text"
      },
      "source": [
        "### Splitting the dataset into training and testing sets"
      ]
    },
    {
      "cell_type": "code",
      "metadata": {
        "id": "AuGjDhZeLFqY",
        "colab_type": "code",
        "colab": {
          "base_uri": "https://localhost:8080/",
          "height": 51
        },
        "outputId": "b502294f-37f6-4730-db5b-7851820fd041"
      },
      "source": [
        "train, test = train_test_split(deu_eng, test_size=.2, random_state=12)\n",
        "\n",
        "x_train = encode_sequences(deu_tokenizer, deu_sequence_length, train[:, 1])\n",
        "y_train = encode_sequences(eng_tokenizer, eng_sequence_length, train[:, 0])\n",
        "\n",
        "x_test = encode_sequences(deu_tokenizer, deu_sequence_length, test[:, 1])\n",
        "y_test = encode_sequences(eng_tokenizer, eng_sequence_length, test[:, 0])\n",
        "\n",
        "print (x_train.shape, y_train.shape)\n",
        "print (x_test.shape, x_test.shape)"
      ],
      "execution_count": 9,
      "outputs": [
        {
          "output_type": "stream",
          "text": [
            "(40000, 8) (40000, 8)\n",
            "(10000, 8) (10000, 8)\n"
          ],
          "name": "stdout"
        }
      ]
    },
    {
      "cell_type": "markdown",
      "metadata": {
        "id": "h4nWQSW7LNTp",
        "colab_type": "text"
      },
      "source": [
        "### Training on a TPU\n",
        "\n",
        "In order to connect to a TPU, we can follow 4 easy steps:\n",
        "\n",
        "1. Connect to a TPU instance\n",
        "2. Initialise a parallelly-distributed training `strategy`\n",
        "3. Build our NMT model under the `strategy`\n",
        "4. Train the model on a TPU\n",
        "\n",
        "For more details on training on TPUs for free, feel free to check out [this](https://medium.com/@mail.rishabh.anand/tpu-training-made-easy-with-colab-3b73b920878f) article that covers the process in great detail."
      ]
    },
    {
      "cell_type": "code",
      "metadata": {
        "id": "mkwlNRk1LLkz",
        "colab_type": "code",
        "colab": {
          "base_uri": "https://localhost:8080/",
          "height": 238
        },
        "outputId": "99c0f784-ba1b-4134-fc20-ff1ace935221"
      },
      "source": [
        "import os\n",
        "import pprint # for pretty printing our device stats\n",
        "\n",
        "# Connecting to TPU instance\n",
        "if 'COLAB_TPU_ADDR' not in os.environ:\n",
        "    print('ERROR: Not connected to a TPU runtime; please see the first cell in this notebook for instructions!')\n",
        "else:\n",
        "    tpu_address = 'grpc://' + os.environ['COLAB_TPU_ADDR']\n",
        "    print ('TPU address is', tpu_address)\n",
        "\n",
        "    with tf.Session(tpu_address) as session:\n",
        "      devices = session.list_devices()\n",
        "\n",
        "    print('TPU devices:')\n",
        "    pprint.pprint(devices)"
      ],
      "execution_count": 10,
      "outputs": [
        {
          "output_type": "stream",
          "text": [
            "TPU address is grpc://10.68.209.226:8470\n",
            "TPU devices:\n",
            "[_DeviceAttributes(/job:tpu_worker/replica:0/task:0/device:CPU:0, CPU, -1, 4565565137061865826),\n",
            " _DeviceAttributes(/job:tpu_worker/replica:0/task:0/device:XLA_CPU:0, XLA_CPU, 17179869184, 2679173490296807388),\n",
            " _DeviceAttributes(/job:tpu_worker/replica:0/task:0/device:TPU:0, TPU, 17179869184, 5659937094472835229),\n",
            " _DeviceAttributes(/job:tpu_worker/replica:0/task:0/device:TPU:1, TPU, 17179869184, 1941014851951481270),\n",
            " _DeviceAttributes(/job:tpu_worker/replica:0/task:0/device:TPU:2, TPU, 17179869184, 10988657411930603103),\n",
            " _DeviceAttributes(/job:tpu_worker/replica:0/task:0/device:TPU:3, TPU, 17179869184, 11066992279973479122),\n",
            " _DeviceAttributes(/job:tpu_worker/replica:0/task:0/device:TPU:4, TPU, 17179869184, 11598983835014165220),\n",
            " _DeviceAttributes(/job:tpu_worker/replica:0/task:0/device:TPU:5, TPU, 17179869184, 17954352287377366392),\n",
            " _DeviceAttributes(/job:tpu_worker/replica:0/task:0/device:TPU:6, TPU, 17179869184, 10135059965912901801),\n",
            " _DeviceAttributes(/job:tpu_worker/replica:0/task:0/device:TPU:7, TPU, 17179869184, 5019679270534127065),\n",
            " _DeviceAttributes(/job:tpu_worker/replica:0/task:0/device:TPU_SYSTEM:0, TPU_SYSTEM, 8589934592, 14701730206112556013)]\n"
          ],
          "name": "stdout"
        }
      ]
    },
    {
      "cell_type": "code",
      "metadata": {
        "id": "a5WySFFxL391",
        "colab_type": "code",
        "colab": {
          "base_uri": "https://localhost:8080/",
          "height": 170
        },
        "outputId": "92c671a5-85fa-4f9e-eec6-67c99c4b55a9"
      },
      "source": [
        "# Initialising a parallelly-distributed training strategy\n",
        "resolver = tf.contrib.cluster_resolver.TPUClusterResolver(tpu='grpc://' + os.environ['COLAB_TPU_ADDR'])\n",
        "tf.contrib.distribute.initialize_tpu_system(resolver)\n",
        "strategy = tf.contrib.distribute.TPUStrategy(resolver)"
      ],
      "execution_count": 11,
      "outputs": [
        {
          "output_type": "stream",
          "text": [
            "WARNING: Logging before flag parsing goes to stderr.\n",
            "W0811 12:28:12.760934 139874475276160 lazy_loader.py:50] \n",
            "The TensorFlow contrib module will not be included in TensorFlow 2.0.\n",
            "For more information, please see:\n",
            "  * https://github.com/tensorflow/community/blob/master/rfcs/20180907-contrib-sunset.md\n",
            "  * https://github.com/tensorflow/addons\n",
            "  * https://github.com/tensorflow/io (for I/O related ops)\n",
            "If you depend on functionality not listed there, please file an issue.\n",
            "\n"
          ],
          "name": "stderr"
        }
      ]
    },
    {
      "cell_type": "code",
      "metadata": {
        "id": "pwSP8GeTMCp-",
        "colab_type": "code",
        "colab": {
          "base_uri": "https://localhost:8080/",
          "height": 496
        },
        "outputId": "5b4e00ef-eb51-42ab-b038-330a128eef86"
      },
      "source": [
        "# Building our model under that strategy\n",
        "\n",
        "in_vocab = deu_vocab_size\n",
        "out_vocab = eng_vocab_size\n",
        "units = 512\n",
        "in_timesteps = deu_sequence_length\n",
        "out_timesteps = eng_sequence_length\n",
        "\n",
        "with strategy.scope():\n",
        "    model = Sequential()\n",
        "    model.add(Embedding(in_vocab, units, input_length=in_timesteps, mask_zero=True))\n",
        "    model.add(LSTM(units))\n",
        "    model.add(RepeatVector(out_timesteps))\n",
        "    model.add(LSTM(units, return_sequences=True))\n",
        "    model.add(Dense(out_vocab, activation='softmax'))\n",
        "\n",
        "    rms = RMSprop(lr=0.001)\n",
        "    model.compile(loss='sparse_categorical_crossentropy', optimizer=rms)\n",
        "\n",
        "    model.summary()"
      ],
      "execution_count": 12,
      "outputs": [
        {
          "output_type": "stream",
          "text": [
            "W0811 12:28:21.273466 139874475276160 deprecation.py:506] From /usr/local/lib/python3.6/dist-packages/tensorflow/python/keras/initializers.py:119: calling RandomUniform.__init__ (from tensorflow.python.ops.init_ops) with dtype is deprecated and will be removed in a future version.\n",
            "Instructions for updating:\n",
            "Call initializer instance with the dtype argument instead of passing it to the constructor\n",
            "W0811 12:28:21.343526 139874475276160 deprecation.py:506] From /usr/local/lib/python3.6/dist-packages/tensorflow/python/ops/init_ops.py:1251: calling VarianceScaling.__init__ (from tensorflow.python.ops.init_ops) with dtype is deprecated and will be removed in a future version.\n",
            "Instructions for updating:\n",
            "Call initializer instance with the dtype argument instead of passing it to the constructor\n",
            "W0811 12:28:21.661533 139874475276160 deprecation.py:323] From /usr/local/lib/python3.6/dist-packages/tensorflow/python/keras/backend.py:3794: add_dispatch_support.<locals>.wrapper (from tensorflow.python.ops.array_ops) is deprecated and will be removed in a future version.\n",
            "Instructions for updating:\n",
            "Use tf.where in 2.0, which has the same broadcast rule as np.where\n"
          ],
          "name": "stderr"
        },
        {
          "output_type": "stream",
          "text": [
            "Model: \"sequential\"\n",
            "_________________________________________________________________\n",
            "Layer (type)                 Output Shape              Param #   \n",
            "=================================================================\n",
            "embedding (Embedding)        (None, 8, 512)            5467136   \n",
            "_________________________________________________________________\n",
            "lstm (LSTM)                  (None, 512)               2099200   \n",
            "_________________________________________________________________\n",
            "repeat_vector (RepeatVector) (None, 8, 512)            0         \n",
            "_________________________________________________________________\n",
            "lstm_1 (LSTM)                (None, 8, 512)            2099200   \n",
            "_________________________________________________________________\n",
            "dense (Dense)                (None, 8, 6352)           3258576   \n",
            "=================================================================\n",
            "Total params: 12,924,112\n",
            "Trainable params: 12,924,112\n",
            "Non-trainable params: 0\n",
            "_________________________________________________________________\n"
          ],
          "name": "stdout"
        }
      ]
    },
    {
      "cell_type": "code",
      "metadata": {
        "id": "B33H_fwvMn6f",
        "colab_type": "code",
        "colab": {
          "base_uri": "https://localhost:8080/",
          "height": 1000
        },
        "outputId": "7dcabdf2-859c-4ee1-adc0-388542e5ba96"
      },
      "source": [
        "history = model.fit(x_train, y_train.reshape(y_train.shape[0], y_train.shape[1], 1), epochs=30, steps_per_epoch=500)"
      ],
      "execution_count": 13,
      "outputs": [
        {
          "output_type": "stream",
          "text": [
            "Epoch 1/30\n"
          ],
          "name": "stdout"
        },
        {
          "output_type": "stream",
          "text": [
            "W0811 12:28:36.859959 139874475276160 deprecation.py:323] From /usr/local/lib/python3.6/dist-packages/tensorflow/python/keras/engine/training_distributed.py:411: Variable.load (from tensorflow.python.ops.variables) is deprecated and will be removed in a future version.\n",
            "Instructions for updating:\n",
            "Prefer Variable.assign which has equivalent behavior in 2.X.\n"
          ],
          "name": "stderr"
        },
        {
          "output_type": "stream",
          "text": [
            "500/500 [==============================] - 13s 26ms/step - loss: 2.8356\n",
            "Epoch 2/30\n",
            "500/500 [==============================] - 8s 15ms/step - loss: 2.1901\n",
            "Epoch 3/30\n",
            "500/500 [==============================] - 8s 15ms/step - loss: 1.8496\n",
            "Epoch 4/30\n",
            "500/500 [==============================] - 8s 16ms/step - loss: 1.6087\n",
            "Epoch 5/30\n",
            "500/500 [==============================] - 8s 15ms/step - loss: 1.4174\n",
            "Epoch 6/30\n",
            "500/500 [==============================] - 8s 16ms/step - loss: 1.2542\n",
            "Epoch 7/30\n",
            "500/500 [==============================] - 8s 15ms/step - loss: 1.1097\n",
            "Epoch 8/30\n",
            "500/500 [==============================] - 8s 16ms/step - loss: 0.9866\n",
            "Epoch 9/30\n",
            "500/500 [==============================] - 8s 16ms/step - loss: 0.8774\n",
            "Epoch 10/30\n",
            "500/500 [==============================] - 8s 16ms/step - loss: 0.7793\n",
            "Epoch 11/30\n",
            "500/500 [==============================] - 8s 16ms/step - loss: 0.6960\n",
            "Epoch 12/30\n",
            "500/500 [==============================] - 8s 16ms/step - loss: 0.6268\n",
            "Epoch 13/30\n",
            "500/500 [==============================] - 8s 16ms/step - loss: 0.5663\n",
            "Epoch 14/30\n",
            "500/500 [==============================] - 8s 16ms/step - loss: 0.5100\n",
            "Epoch 15/30\n",
            "500/500 [==============================] - 8s 16ms/step - loss: 0.4621\n",
            "Epoch 16/30\n",
            "500/500 [==============================] - 8s 16ms/step - loss: 0.4206\n",
            "Epoch 17/30\n",
            "500/500 [==============================] - 8s 16ms/step - loss: 0.3858\n",
            "Epoch 18/30\n",
            "500/500 [==============================] - 8s 15ms/step - loss: 0.3553\n",
            "Epoch 19/30\n",
            "500/500 [==============================] - 8s 16ms/step - loss: 0.3283\n",
            "Epoch 20/30\n",
            "500/500 [==============================] - 8s 17ms/step - loss: 0.3040\n",
            "Epoch 21/30\n",
            "500/500 [==============================] - 8s 16ms/step - loss: 0.2841\n",
            "Epoch 22/30\n",
            "500/500 [==============================] - 8s 16ms/step - loss: 0.2655\n",
            "Epoch 23/30\n",
            "500/500 [==============================] - 8s 15ms/step - loss: 0.2518\n",
            "Epoch 24/30\n",
            "500/500 [==============================] - 8s 15ms/step - loss: 0.2388\n",
            "Epoch 25/30\n",
            "500/500 [==============================] - 8s 15ms/step - loss: 0.2233\n",
            "Epoch 26/30\n",
            "500/500 [==============================] - 8s 16ms/step - loss: 0.2113\n",
            "Epoch 27/30\n",
            "500/500 [==============================] - 8s 15ms/step - loss: 0.2008\n",
            "Epoch 28/30\n",
            "500/500 [==============================] - 8s 15ms/step - loss: 0.1921\n",
            "Epoch 29/30\n",
            "500/500 [==============================] - 8s 15ms/step - loss: 0.1819\n",
            "Epoch 30/30\n",
            "500/500 [==============================] - 8s 15ms/step - loss: 0.1738\n"
          ],
          "name": "stdout"
        }
      ]
    },
    {
      "cell_type": "markdown",
      "metadata": {
        "id": "Y4YwTfTROVv4",
        "colab_type": "text"
      },
      "source": [
        "### Checking the loss values"
      ]
    },
    {
      "cell_type": "code",
      "metadata": {
        "id": "2S6V9YHoOLk5",
        "colab_type": "code",
        "colab": {
          "base_uri": "https://localhost:8080/",
          "height": 283
        },
        "outputId": "254d4e69-c151-4231-989b-98299ca275c1"
      },
      "source": [
        "plt.plot(history.history['loss'])\n",
        "plt.xlabel('Epochs')\n",
        "plt.ylabel('Sparse Categorical Loss')\n",
        "plt.legend(['train'])\n",
        "plt.show()"
      ],
      "execution_count": 14,
      "outputs": [
        {
          "output_type": "display_data",
          "data": {
            "image/png": "[encoded data removed]",
            "text/plain": [
              "<Figure size 432x288 with 1 Axes>"
            ]
          },
          "metadata": {
            "tags": []
          }
        }
      ]
    },
    {
      "cell_type": "markdown",
      "metadata": {
        "id": "LiqzrayKOYoW",
        "colab_type": "text"
      },
      "source": [
        "### Running our model on testing dataset"
      ]
    },
    {
      "cell_type": "code",
      "metadata": {
        "id": "iIJ5J5w0O25p",
        "colab_type": "code",
        "colab": {
          "base_uri": "https://localhost:8080/",
          "height": 102
        },
        "outputId": "6fa7fd0f-fd78-4d1a-a57f-215647afa7b6"
      },
      "source": [
        "# Getting the predictions from the testing dataset\n",
        "preds = model.predict_classes(x_test.reshape(x_test.shape[0], x_test.shape[1]))\n",
        "print (preds[:5])"
      ],
      "execution_count": 15,
      "outputs": [
        {
          "output_type": "stream",
          "text": [
            "[[  10  305    7   28  277    0    0    0]\n",
            " [   2   80    1    0    0    0    0    0]\n",
            " [  87   31   70   70    0    0    0    0]\n",
            " [   2   24    7   80    0    0    0    0]\n",
            " [  47   16 1456    0    0    0    0    0]]\n"
          ],
          "name": "stdout"
        }
      ]
    },
    {
      "cell_type": "code",
      "metadata": {
        "id": "fRiYw1miOo47",
        "colab_type": "code",
        "colab": {}
      },
      "source": [
        "# A function to convert a sequence back into words\n",
        "def convert_words(n, tokenizer):\n",
        "    for word, idx in tokenizer.word_index.items():\n",
        "        if idx == n:\n",
        "            return word\n",
        "    return None"
      ],
      "execution_count": 0,
      "outputs": []
    },
    {
      "cell_type": "code",
      "metadata": {
        "id": "tvW2uwKNOttE",
        "colab_type": "code",
        "colab": {}
      },
      "source": [
        "# Running our model on the testing dataset\n",
        "pred_texts = []\n",
        "for i in preds:\n",
        "    temp = []\n",
        "    for j in range(len(i)):\n",
        "        word = convert_words(i[j], eng_tokenizer)\n",
        "        if j > 0:\n",
        "            if (word == convert_words(i[j-1], eng_tokenizer)) or (word == None):\n",
        "                temp.append('')\n",
        "            else:\n",
        "                temp.append(word)\n",
        "        else:\n",
        "            if (word == None):\n",
        "                temp.append('')\n",
        "            else:\n",
        "                temp.append(word)\n",
        "                \n",
        "    pred_texts.append(' '.join(temp))    \n",
        "    \n",
        "pred_df = pd.DataFrame({'actual': test[:, 0], 'prediction': pred_texts})"
      ],
      "execution_count": 0,
      "outputs": []
    },
    {
      "cell_type": "code",
      "metadata": {
        "id": "z-lVxIZ19Zh-",
        "colab_type": "code",
        "colab": {
          "base_uri": "https://localhost:8080/",
          "height": 1000
        },
        "outputId": "c43a90cc-2fc6-4033-d257-dfa0d47c0104"
      },
      "source": [
        "pred_df"
      ],
      "execution_count": 18,
      "outputs": [
        {
          "output_type": "execute_result",
          "data": {
            "text/html": [
              "<div>\n",
              "<style scoped>\n",
              "    .dataframe tbody tr th:only-of-type {\n",
              "        vertical-align: middle;\n",
              "    }\n",
              "\n",
              "    .dataframe tbody tr th {\n",
              "        vertical-align: top;\n",
              "    }\n",
              "\n",
              "    .dataframe thead th {\n",
              "        text-align: right;\n",
              "    }\n",
              "</style>\n",
              "<table border=\"1\" class=\"dataframe\">\n",
              "  <thead>\n",
              "    <tr style=\"text-align: right;\">\n",
              "      <th></th>\n",
              "      <th>actual</th>\n",
              "      <th>prediction</th>\n",
              "    </tr>\n",
              "  </thead>\n",
              "  <tbody>\n",
              "    <tr>\n",
              "      <th>0</th>\n",
              "      <td>he wanted to be rich</td>\n",
              "      <td>he wanted to be rich</td>\n",
              "    </tr>\n",
              "    <tr>\n",
              "      <th>1</th>\n",
              "      <td>i love tom</td>\n",
              "      <td>i love tom</td>\n",
              "    </tr>\n",
              "    <tr>\n",
              "      <th>2</th>\n",
              "      <td>let us go home</td>\n",
              "      <td>lets go home</td>\n",
              "    </tr>\n",
              "    <tr>\n",
              "      <th>3</th>\n",
              "      <td>i love driving</td>\n",
              "      <td>i like to love</td>\n",
              "    </tr>\n",
              "    <tr>\n",
              "      <th>4</th>\n",
              "      <td>this is my dictionary</td>\n",
              "      <td>thats my dictionary</td>\n",
              "    </tr>\n",
              "    <tr>\n",
              "      <th>5</th>\n",
              "      <td>hi tom good morning</td>\n",
              "      <td>send tom a</td>\n",
              "    </tr>\n",
              "    <tr>\n",
              "      <th>6</th>\n",
              "      <td>why is she so popular</td>\n",
              "      <td>why is she so</td>\n",
              "    </tr>\n",
              "    <tr>\n",
              "      <th>7</th>\n",
              "      <td>ill show you my room</td>\n",
              "      <td>ill show you my room</td>\n",
              "    </tr>\n",
              "    <tr>\n",
              "      <th>8</th>\n",
              "      <td>did tom oversleep</td>\n",
              "      <td>did tom respond</td>\n",
              "    </tr>\n",
              "    <tr>\n",
              "      <th>9</th>\n",
              "      <td>keep up the good work</td>\n",
              "      <td>just a  work</td>\n",
              "    </tr>\n",
              "    <tr>\n",
              "      <th>10</th>\n",
              "      <td>what happened</td>\n",
              "      <td>what happened that</td>\n",
              "    </tr>\n",
              "    <tr>\n",
              "      <th>11</th>\n",
              "      <td>toms weak</td>\n",
              "      <td>toms is weak</td>\n",
              "    </tr>\n",
              "    <tr>\n",
              "      <th>12</th>\n",
              "      <td>take tom home</td>\n",
              "      <td>take tom home</td>\n",
              "    </tr>\n",
              "    <tr>\n",
              "      <th>13</th>\n",
              "      <td>school is out</td>\n",
              "      <td>school is</td>\n",
              "    </tr>\n",
              "    <tr>\n",
              "      <th>14</th>\n",
              "      <td>it is pitch dark</td>\n",
              "      <td>it already</td>\n",
              "    </tr>\n",
              "    <tr>\n",
              "      <th>15</th>\n",
              "      <td>dogs are smart</td>\n",
              "      <td>dogs is are</td>\n",
              "    </tr>\n",
              "    <tr>\n",
              "      <th>16</th>\n",
              "      <td>im allowing you to go</td>\n",
              "      <td>im sorry to you</td>\n",
              "    </tr>\n",
              "    <tr>\n",
              "      <th>17</th>\n",
              "      <td>is she here yet</td>\n",
              "      <td>is she here</td>\n",
              "    </tr>\n",
              "    <tr>\n",
              "      <th>18</th>\n",
              "      <td>i know its a surprise</td>\n",
              "      <td>i know a  minute</td>\n",
              "    </tr>\n",
              "    <tr>\n",
              "      <th>19</th>\n",
              "      <td>tom did do that</td>\n",
              "      <td>tom has this</td>\n",
              "    </tr>\n",
              "    <tr>\n",
              "      <th>20</th>\n",
              "      <td>can i go to work</td>\n",
              "      <td>may i go to</td>\n",
              "    </tr>\n",
              "    <tr>\n",
              "      <th>21</th>\n",
              "      <td>thats not my car</td>\n",
              "      <td>this not my car</td>\n",
              "    </tr>\n",
              "    <tr>\n",
              "      <th>22</th>\n",
              "      <td>tom is undressing</td>\n",
              "      <td>tom is now</td>\n",
              "    </tr>\n",
              "    <tr>\n",
              "      <th>23</th>\n",
              "      <td>does tom have one</td>\n",
              "      <td>does tom have one</td>\n",
              "    </tr>\n",
              "    <tr>\n",
              "      <th>24</th>\n",
              "      <td>you must study hard</td>\n",
              "      <td>you must study hard</td>\n",
              "    </tr>\n",
              "    <tr>\n",
              "      <th>25</th>\n",
              "      <td>it cant be helped</td>\n",
              "      <td>this time to sense</td>\n",
              "    </tr>\n",
              "    <tr>\n",
              "      <th>26</th>\n",
              "      <td>tom is ridiculous</td>\n",
              "      <td>tom is ridiculous</td>\n",
              "    </tr>\n",
              "    <tr>\n",
              "      <th>27</th>\n",
              "      <td>i meet a lot of people</td>\n",
              "      <td>i read many lot</td>\n",
              "    </tr>\n",
              "    <tr>\n",
              "      <th>28</th>\n",
              "      <td>earth is a planet</td>\n",
              "      <td>the make is a</td>\n",
              "    </tr>\n",
              "    <tr>\n",
              "      <th>29</th>\n",
              "      <td>you wont be shot</td>\n",
              "      <td>you wont be wont</td>\n",
              "    </tr>\n",
              "    <tr>\n",
              "      <th>...</th>\n",
              "      <td>...</td>\n",
              "      <td>...</td>\n",
              "    </tr>\n",
              "    <tr>\n",
              "      <th>9970</th>\n",
              "      <td>i accept your terms</td>\n",
              "      <td>i accept your</td>\n",
              "    </tr>\n",
              "    <tr>\n",
              "      <th>9971</th>\n",
              "      <td>stop tom</td>\n",
              "      <td>stop tom</td>\n",
              "    </tr>\n",
              "    <tr>\n",
              "      <th>9972</th>\n",
              "      <td>tom seems touched</td>\n",
              "      <td>tom seems uneasy</td>\n",
              "    </tr>\n",
              "    <tr>\n",
              "      <th>9973</th>\n",
              "      <td>see you around tom</td>\n",
              "      <td>talk tom</td>\n",
              "    </tr>\n",
              "    <tr>\n",
              "      <th>9974</th>\n",
              "      <td>tom didnt object</td>\n",
              "      <td>tom wasnt liked</td>\n",
              "    </tr>\n",
              "    <tr>\n",
              "      <th>9975</th>\n",
              "      <td>stay here with tom</td>\n",
              "      <td>stay with tom</td>\n",
              "    </tr>\n",
              "    <tr>\n",
              "      <th>9976</th>\n",
              "      <td>youre humming</td>\n",
              "      <td>youre humming</td>\n",
              "    </tr>\n",
              "    <tr>\n",
              "      <th>9977</th>\n",
              "      <td>i must buy one</td>\n",
              "      <td>i must buy one</td>\n",
              "    </tr>\n",
              "    <tr>\n",
              "      <th>9978</th>\n",
              "      <td>i wont say anything</td>\n",
              "      <td>i wont say</td>\n",
              "    </tr>\n",
              "    <tr>\n",
              "      <th>9979</th>\n",
              "      <td>i have another job now</td>\n",
              "      <td>i have a job now</td>\n",
              "    </tr>\n",
              "    <tr>\n",
              "      <th>9980</th>\n",
              "      <td>he must be over fifty</td>\n",
              "      <td>he must be the crazy</td>\n",
              "    </tr>\n",
              "    <tr>\n",
              "      <th>9981</th>\n",
              "      <td>im a hairdresser</td>\n",
              "      <td>i am</td>\n",
              "    </tr>\n",
              "    <tr>\n",
              "      <th>9982</th>\n",
              "      <td>tom tried his luck</td>\n",
              "      <td>tom must youre</td>\n",
              "    </tr>\n",
              "    <tr>\n",
              "      <th>9983</th>\n",
              "      <td>open your mouth wide</td>\n",
              "      <td>up on different</td>\n",
              "    </tr>\n",
              "    <tr>\n",
              "      <th>9984</th>\n",
              "      <td>youre untalented</td>\n",
              "      <td>youre untalented</td>\n",
              "    </tr>\n",
              "    <tr>\n",
              "      <th>9985</th>\n",
              "      <td>i didnt notice it</td>\n",
              "      <td>i didnt notice it</td>\n",
              "    </tr>\n",
              "    <tr>\n",
              "      <th>9986</th>\n",
              "      <td>she rode a camel</td>\n",
              "      <td>they made a big</td>\n",
              "    </tr>\n",
              "    <tr>\n",
              "      <th>9987</th>\n",
              "      <td>trust me he said</td>\n",
              "      <td>tell one said</td>\n",
              "    </tr>\n",
              "    <tr>\n",
              "      <th>9988</th>\n",
              "      <td>tom grabbed his bag</td>\n",
              "      <td>tom  his</td>\n",
              "    </tr>\n",
              "    <tr>\n",
              "      <th>9989</th>\n",
              "      <td>what was tom like</td>\n",
              "      <td>how was tom that</td>\n",
              "    </tr>\n",
              "    <tr>\n",
              "      <th>9990</th>\n",
              "      <td>it looks like snow</td>\n",
              "      <td>it looks like snow</td>\n",
              "    </tr>\n",
              "    <tr>\n",
              "      <th>9991</th>\n",
              "      <td>tom works slowly</td>\n",
              "      <td>tom took slowly</td>\n",
              "    </tr>\n",
              "    <tr>\n",
              "      <th>9992</th>\n",
              "      <td>i love rock</td>\n",
              "      <td>i like rock</td>\n",
              "    </tr>\n",
              "    <tr>\n",
              "      <th>9993</th>\n",
              "      <td>our tv isnt working</td>\n",
              "      <td>our tv is out of</td>\n",
              "    </tr>\n",
              "    <tr>\n",
              "      <th>9994</th>\n",
              "      <td>youre a racist</td>\n",
              "      <td>youre a genius</td>\n",
              "    </tr>\n",
              "    <tr>\n",
              "      <th>9995</th>\n",
              "      <td>i have one question</td>\n",
              "      <td>i asked nobody</td>\n",
              "    </tr>\n",
              "    <tr>\n",
              "      <th>9996</th>\n",
              "      <td>i find swimming fun</td>\n",
              "      <td>swimming is fun for me</td>\n",
              "    </tr>\n",
              "    <tr>\n",
              "      <th>9997</th>\n",
              "      <td>tom usually wins</td>\n",
              "      <td>tom appears wins</td>\n",
              "    </tr>\n",
              "    <tr>\n",
              "      <th>9998</th>\n",
              "      <td>he deserves the prize</td>\n",
              "      <td>he the  it</td>\n",
              "    </tr>\n",
              "    <tr>\n",
              "      <th>9999</th>\n",
              "      <td>ill explain later</td>\n",
              "      <td>ill will it later</td>\n",
              "    </tr>\n",
              "  </tbody>\n",
              "</table>\n",
              "<p>10000 rows × 2 columns</p>\n",
              "</div>"
            ],
            "text/plain": [
              "                      actual                 prediction\n",
              "0       he wanted to be rich    he wanted to be rich   \n",
              "1                 i love tom            i love tom     \n",
              "2             let us go home          lets go home     \n",
              "3             i love driving         i like to love    \n",
              "4      this is my dictionary   thats my dictionary     \n",
              "5        hi tom good morning            send tom a     \n",
              "6      why is she so popular          why is she so    \n",
              "7       ill show you my room    ill show you my room   \n",
              "8          did tom oversleep       did tom respond     \n",
              "9      keep up the good work           just a  work    \n",
              "10             what happened    what happened that     \n",
              "11                 toms weak          toms is weak     \n",
              "12             take tom home         take tom home     \n",
              "13             school is out            school is      \n",
              "14          it is pitch dark           it already      \n",
              "15            dogs are smart           dogs is are     \n",
              "16     im allowing you to go        im sorry to you    \n",
              "17           is she here yet           is she here     \n",
              "18     i know its a surprise        i know a  minute   \n",
              "19           tom did do that          tom has this     \n",
              "20          can i go to work            may i go to    \n",
              "21          thats not my car        this not my car    \n",
              "22         tom is undressing            tom is now     \n",
              "23         does tom have one      does tom have one    \n",
              "24       you must study hard    you must study hard    \n",
              "25         it cant be helped     this time to sense    \n",
              "26         tom is ridiculous     tom is ridiculous     \n",
              "27    i meet a lot of people        i read many lot    \n",
              "28         earth is a planet          the make is a    \n",
              "29          you wont be shot       you wont be wont    \n",
              "...                      ...                        ...\n",
              "9970     i accept your terms         i accept your     \n",
              "9971                stop tom             stop tom      \n",
              "9972       tom seems touched      tom seems uneasy     \n",
              "9973      see you around tom             talk tom      \n",
              "9974        tom didnt object       tom wasnt liked     \n",
              "9975      stay here with tom         stay with tom     \n",
              "9976           youre humming        youre humming      \n",
              "9977          i must buy one         i must buy one    \n",
              "9978     i wont say anything            i wont say     \n",
              "9979  i have another job now        i have a job now   \n",
              "9980   he must be over fifty    he must be the crazy   \n",
              "9981        im a hairdresser                 i am      \n",
              "9982      tom tried his luck        tom must youre     \n",
              "9983    open your mouth wide        up on different    \n",
              "9984        youre untalented     youre untalented      \n",
              "9985       i didnt notice it      i didnt notice it    \n",
              "9986        she rode a camel        they made a big    \n",
              "9987        trust me he said         tell one said     \n",
              "9988     tom grabbed his bag              tom  his     \n",
              "9989       what was tom like       how was tom that    \n",
              "9990      it looks like snow     it looks like snow    \n",
              "9991        tom works slowly       tom took slowly     \n",
              "9992             i love rock           i like rock     \n",
              "9993     our tv isnt working        our tv is out of   \n",
              "9994          youre a racist        youre a genius     \n",
              "9995     i have one question        i asked nobody     \n",
              "9996     i find swimming fun  swimming is fun for me   \n",
              "9997        tom usually wins      tom appears wins     \n",
              "9998   he deserves the prize             he the  it    \n",
              "9999       ill explain later      ill will it later    \n",
              "\n",
              "[10000 rows x 2 columns]"
            ]
          },
          "metadata": {
            "tags": []
          },
          "execution_count": 18
        }
      ]
    }
  ]
}