{
  "nbformat": 4,
  "nbformat_minor": 0,
  "metadata": {
    "colab": {
      "name": "text_generation.ipynb",
      "version": "0.3.2",
      "provenance": [],
      "private_outputs": true,
      "collapsed_sections": [],
      "toc_visible": true
    },
    "kernelspec": {
      "display_name": "Python 3",
      "language": "python",
      "name": "python3"
    },
    "accelerator": "GPU"
  },
  "cells": [
    {
      "metadata": {
        "id": "Bj_3MEEGLX_a",
        "colab_type": "text"
      },
      "cell_type": "markdown",
      "source": [
        "##### Copyright 2018 The TensorFlow Authors.\n",
        "\n",
        "Licensed under the Apache License, Version 2.0 (the \"License\")."
      ]
    },
    {
      "metadata": {
        "id": "hcD2nPQvPOFM",
        "colab_type": "text"
      },
      "cell_type": "markdown",
      "source": [
        "\n",
        "\n",
        "# Text generation using a RNN with eager execution\n",
        "\n",
        "\n",
        "<table class=\"tfo-notebook-buttons\" align=\"left\">\n",
        "<td>\n",
        "<a target=\\\"_blank\\\" href=\"https://www.tensorflow.org/tutorials/sequences/text_generation\"><img src=\"https://www.tensorflow.org/images/tf_logo_32px.png\" />View on TensorFlow.org</a>\n",
        "</td><td>\n",
        "<a target=\"_blank\"  href=\"https://colab.research.google.com/github/tensorflow/docs/blob/master/site/en/tutorials/sequences/text_generation.ipynb\">\n",
        "    <img src=\"https://www.tensorflow.org/images/colab_logo_32px.png\" />Run in Google Colab</a>  \n",
        "</td><td>\n",
        "<a target=\"_blank\"  href=\"https://github.com/tensorflow/docs/blob/master/site/en/tutorials/sequences/text_generation.ipynb\"><img width=32px src=\"https://www.tensorflow.org/images/GitHub-Mark-32px.png\" />View source on Github</a></td></table>"
      ]
    },
    {
      "metadata": {
        "id": "BwpJ5IffzRG6",
        "colab_type": "text"
      },
      "cell_type": "markdown",
      "source": [
        "This tutorial demonstrates how to generate text using a character-based RNN. We will work with dataset of Shakespeare's writing borrowed from Andrej Karpathy's [The Unreasonable Effectiveness of Recurrent Neural Networks](http://karpathy.github.io/2015/05/21/rnn-effectiveness/). Given a sequence of characters from this data (\"Shakespear\") we'll train a model to predict the next character in the sequence (\"e\"). We can generate longer sequences of text by using our model repeatedly.\n",
        "\n",
        "This tutorial includes complete, runnable code implemented using [tf.keras (https://www.tensorflow.org/programmers_guide/keras) and [eager execution](https://www.tensorflow.org/programmers_guide/eager). Below is sample output when the tutorial is run with the default settings:\n",
        "\n",
        "```\n",
        "QUEENE:\n",
        "I had thought thou hadst a Roman; for the oracle,\n",
        "Thus by All bids the man against the word,\n",
        "Which are so weak of care, by old care done;\n",
        "Your children were in your holy love,\n",
        "And the precipitation through the bleeding throne.\n",
        "\n",
        "BISHOP OF ELY:\n",
        "Marry, and will, my lord, to weep in such a one were prettiest;\n",
        "Yet now I was adopted heir\n",
        "Of the world's lamentable day,\n",
        "To watch the next way with his father with his face?\n",
        "\n",
        "ESCALUS:\n",
        "The cause why then we are all resolved more sons.\n",
        "\n",
        "VOLUMNIA:\n",
        "O, no, no, no, no, no, no, no, no, no, no, no, no, no, no, no, no, no, no, no, no, it is no sin it should be dead,\n",
        "And love and pale as any will to that word.\n",
        "\n",
        "QUEEN ELIZABETH:\n",
        "But how long have I heard the soul for this world,\n",
        "And show his hands of life be proved to stand.\n",
        "\n",
        "PETRUCHIO:\n",
        "I say he look'd on, if I must be content\n",
        "To stay him from the fatal of our country's bliss.\n",
        "His lordship pluck'd from this sentence then for prey,\n",
        "And then let us twain, being the moon,\n",
        "were she such a case as fills m\n",
        "```\n",
        "\n",
        "Is this output any good? Yes! Of course, while some of the sentences are grammatical, most do not make sense. Our model has not learned the meaning of words, but consider what is has learned:\n",
        "\n",
        "* Our model is character-based (when we began training, it did not yet know how to spell an English word, or that words were even a unit of text!).\n",
        "\n",
        "* The structure of the output resembles a play (blocks of text generally begin with a speaker name, in all capital letters similar to the dataset).\n",
        "\n",
        "* As we'll show below, our model is trained on small batches of text (100 characters each), and is still able to generate a longer sequence of text with coherent structure."
      ]
    },
    {
      "metadata": {
        "id": "srXC6pLGLwS6",
        "colab_type": "text"
      },
      "cell_type": "markdown",
      "source": [
        "## Setup"
      ]
    },
    {
      "metadata": {
        "id": "WGyKZj3bzf9p",
        "colab_type": "text"
      },
      "cell_type": "markdown",
      "source": [
        "### Import TensorFlow and other libraries"
      ]
    },
    {
      "metadata": {
        "id": "yG_n40gFzf9s",
        "colab_type": "code",
        "colab": {}
      },
      "cell_type": "code",
      "source": [
        "import tensorflow as tf\n",
        "tf.enable_eager_execution()\n",
        "\n",
        "import numpy as np\n",
        "import os\n",
        "import time"
      ],
      "execution_count": 0,
      "outputs": []
    },
    {
      "metadata": {
        "id": "EHDoRoc5PKWz",
        "colab_type": "text"
      },
      "cell_type": "markdown",
      "source": [
        "### Download the Shakespeare dataset\n",
        "\n",
        "To run this code on your own data, you'll need to change only this line."
      ]
    },
    {
      "metadata": {
        "id": "pD_55cOxLkAb",
        "colab_type": "code",
        "colab": {}
      },
      "cell_type": "code",
      "source": [
        "path_to_file = tf.keras.utils.get_file('shakespeare.txt', 'https://storage.googleapis.com/download.tensorflow.org/data/shakespeare.txt')"
      ],
      "execution_count": 0,
      "outputs": []
    },
    {
      "metadata": {
        "id": "UHjdCjDuSvX_",
        "colab_type": "text"
      },
      "cell_type": "markdown",
      "source": [
        "### Read the data\n",
        "\n",
        "First we'll have a look in the text."
      ]
    },
    {
      "metadata": {
        "id": "aavnuByVymwK",
        "colab_type": "code",
        "colab": {}
      },
      "cell_type": "code",
      "source": [
        "text = open(path_to_file).read()\n",
        "# length of text is the number of characters in it\n",
        "print ('Length of text: {} characters'.format(len(text)))"
      ],
      "execution_count": 0,
      "outputs": []
    },
    {
      "metadata": {
        "id": "Duhg9NrUymwO",
        "colab_type": "code",
        "colab": {}
      },
      "cell_type": "code",
      "source": [
        "# Take a look at the first 1000 characters in text\n",
        "print(text[:1000])"
      ],
      "execution_count": 0,
      "outputs": []
    },
    {
      "metadata": {
        "id": "IlCgQBRVymwR",
        "colab_type": "code",
        "colab": {}
      },
      "cell_type": "code",
      "source": [
        "# The unique characters in the file\n",
        "vocab = sorted(set(text))\n",
        "print ('{} unique characters'.format(len(vocab)))"
      ],
      "execution_count": 0,
      "outputs": []
    },
    {
      "metadata": {
        "id": "rNnrKn_lL-IJ",
        "colab_type": "text"
      },
      "cell_type": "markdown",
      "source": [
        "## Process the text"
      ]
    },
    {
      "metadata": {
        "id": "LFjSVAlWzf-N",
        "colab_type": "text"
      },
      "cell_type": "markdown",
      "source": [
        "### Vectorize the text\n",
        "\n",
        "Before training, we'll need to map strings to a numerical representation. First, we'll create two lookup tables. One mapping from characters to numbers, and another from numbers to characters."
      ]
    },
    {
      "metadata": {
        "id": "IalZLbvOzf-F",
        "colab_type": "code",
        "colab": {}
      },
      "cell_type": "code",
      "source": [
        "# Creating a mapping from unique characters to indices\n",
        "char2idx = {u:i for i, u in enumerate(vocab)}\n",
        "idx2char = np.array(vocab)\n",
        "\n",
        "text_as_int = np.array([char2idx[c] for c in text])"
      ],
      "execution_count": 0,
      "outputs": []
    },
    {
      "metadata": {
        "id": "tZfqhkYCymwX",
        "colab_type": "text"
      },
      "cell_type": "markdown",
      "source": [
        "Now we have an integer representation for each character. Notice that we mapped the character as indexes from 0 to len(unique)."
      ]
    },
    {
      "metadata": {
        "id": "FYyNlCNXymwY",
        "colab_type": "code",
        "colab": {}
      },
      "cell_type": "code",
      "source": [
        "for char in char2idx:\n",
        "    print('{:6s} ---> {:4d}'.format(repr(char), char2idx[char]))"
      ],
      "execution_count": 0,
      "outputs": []
    },
    {
      "metadata": {
        "id": "l1VKcQHcymwb",
        "colab_type": "code",
        "colab": {}
      },
      "cell_type": "code",
      "source": [
        "# Show how the first 13 characters from the text are mapped to integers\n",
        "print ('{} ---- characters mapped to int ---- > {}'.format(text[:13], text_as_int[:13]))"
      ],
      "execution_count": 0,
      "outputs": []
    },
    {
      "metadata": {
        "id": "bbmsf23Bymwe",
        "colab_type": "text"
      },
      "cell_type": "markdown",
      "source": [
        "### The prediction task"
      ]
    },
    {
      "metadata": {
        "id": "wssHQ1oGymwe",
        "colab_type": "text"
      },
      "cell_type": "markdown",
      "source": [
        "Given a character, or a sequence of characters, what is the most probable next character? This is the actual task we'll train the model to perform. The input to the model will be a sequence of characters, and the output we will train the model to predict will be the following character at each time step.\n",
        "\n",
        "In practice, since RNNs maintain an internal state that depends on the previously seen elements, is like given all the characters computed until this moment what is the next character?\n",
        "\n",
        "Let's prepare this data and have a look on how it looks like."
      ]
    },
    {
      "metadata": {
        "id": "hgsVvVxnymwf",
        "colab_type": "text"
      },
      "cell_type": "markdown",
      "source": [
        "### Create training examples and targets\n",
        "\n",
        "We will now divide the text into training examples and targets. Each training example will contain **seq_length** characters from the text. The corresponding targets will contain the same length of text, except shifted one character to the right. For example, say seq_length was 4, and our text was \"Hello\". We would create one training example \"Hell\", and one target \"ello\".\n",
        "\n",
        "First break the text into chunks of `seq_length+1`:"
      ]
    },
    {
      "metadata": {
        "id": "0UHJDA39zf-O",
        "colab_type": "code",
        "colab": {}
      },
      "cell_type": "code",
      "source": [
        "# The maximum length sentence we want for a single input in characters\n",
        "seq_length = 100\n",
        "\n",
        "# Create training examples / targets\n",
        "chunks = tf.data.Dataset.from_tensor_slices(text_as_int).batch(seq_length+1, drop_remainder=True)\n",
        "\n",
        "for item in chunks.take(5):\n",
        "  print(repr(''.join(idx2char[item.numpy()])))"
      ],
      "execution_count": 0,
      "outputs": []
    },
    {
      "metadata": {
        "id": "UbLcIPBj_mWZ",
        "colab_type": "text"
      },
      "cell_type": "markdown",
      "source": [
        "Next, create the input and target texts from this chunk:"
      ]
    },
    {
      "metadata": {
        "id": "9NGu-FkO_kYU",
        "colab_type": "code",
        "colab": {}
      },
      "cell_type": "code",
      "source": [
        "def split_input_target(chunk):\n",
        "    input_text = chunk[:-1]\n",
        "    target_text = chunk[1:]\n",
        "    return input_text, target_text\n",
        "\n",
        "dataset = chunks.map(split_input_target)"
      ],
      "execution_count": 0,
      "outputs": []
    },
    {
      "metadata": {
        "id": "hiCopyGZymwi",
        "colab_type": "text"
      },
      "cell_type": "markdown",
      "source": [
        "Let's print the first 10 values of the first example."
      ]
    },
    {
      "metadata": {
        "id": "GNbw-iR0ymwj",
        "colab_type": "code",
        "colab": {}
      },
      "cell_type": "code",
      "source": [
        "for input_example, target_example in  dataset.take(1):\n",
        "  print ('Input data: ', repr(''.join(idx2char[input_example.numpy()])))\n",
        "  print ('Target data:', repr(''.join(idx2char[target_example.numpy()])))"
      ],
      "execution_count": 0,
      "outputs": []
    },
    {
      "metadata": {
        "id": "_33OHL3b84i0",
        "colab_type": "text"
      },
      "cell_type": "markdown",
      "source": [
        "Each index of these vectors will be processed as one time step. For this input at time step 0 we receive the character mapped to the number 18 and try to predict the character mapped to the number 47. At time step 1 we'll do the same thing but considering the previous step along with the current character."
      ]
    },
    {
      "metadata": {
        "id": "0eBu9WZG84i0",
        "colab_type": "code",
        "colab": {}
      },
      "cell_type": "code",
      "source": [
        "for i, (input_idx, target_idx) in enumerate(zip(input_example[:5], target_example[:5])):\n",
        "    print(\"Step {:4d}\".format(i))\n",
        "    print(\"  input: {} ({:s})\".format(input_idx, repr(idx2char[input_idx])))\n",
        "    print(\"  expected output: {} ({:s})\".format(target_idx, repr(idx2char[target_idx])))"
      ],
      "execution_count": 0,
      "outputs": []
    },
    {
      "metadata": {
        "id": "MJdfPmdqzf-R",
        "colab_type": "text"
      },
      "cell_type": "markdown",
      "source": [
        "### Creating batches and shuffling them using tf.data\n",
        "\n",
        "We used [tf.data](https://www.tensorflow.org/guide/datasets) chop the text into usable chunks. Before feeding this data into the model we still need to shuffle the data (), and pack it into batches."
      ]
    },
    {
      "metadata": {
        "id": "p2pGotuNzf-S",
        "colab_type": "code",
        "colab": {}
      },
      "cell_type": "code",
      "source": [
        "# Batch size \n",
        "BATCH_SIZE = 64\n",
        "\n",
        "# Buffer size to shuffle the dataset\n",
        "# (TF data is designed to work with possibly infinite sequences, \n",
        "# so it doesn't attempt to shuffle the entire sequence in memory. Instead, \n",
        "# it maintains a buffer in which it shuffles elements).\n",
        "BUFFER_SIZE = 10000\n",
        "\n",
        "dataset = tf.data.Dataset.from_tensor_slices((input_text, target_text)).shuffle(BUFFER_SIZE)\n",
        "dataset = dataset.batch(BATCH_SIZE, drop_remainder=True)"
      ],
      "execution_count": 0,
      "outputs": []
    },
    {
      "metadata": {
        "id": "r6oUuElIMgVx",
        "colab_type": "text"
      },
      "cell_type": "markdown",
      "source": [
        "## The Model"
      ]
    },
    {
      "metadata": {
        "id": "m8gPwEjRzf-Z",
        "colab_type": "text"
      },
      "cell_type": "markdown",
      "source": [
        "### Implement the model\n",
        "\n",
        "We'll use the tf.keras [Model Subclassing API](https://www.tensorflow.org/guide/keras) which gives us full flexibility to create the model and change it however we like. We use 3 layers to define our model. These are:\n",
        "\n",
        "* An [Embedding](https://www.tensorflow.org/api_docs/python/tf/keras/layers/Embedding) layer: a trainable lookup table that will map the numbers of each character to a high dimensional vector with **embedding_dim** dimensions;\n",
        "* A [GRU](https://www.tensorflow.org/api_docs/python/tf/keras/layers/GRU) layer: a type of RNN (you can also use a LSTM layer here) with layer size = **units**;\n",
        "* A [Dense](https://www.tensorflow.org/api_docs/python/tf/keras/layers/Dense) layer with **vocab_size** cells."
      ]
    },
    {
      "metadata": {
        "id": "P3KTiiInzf-a",
        "colab_type": "code",
        "colab": {}
      },
      "cell_type": "code",
      "source": [
        "class Model(tf.keras.Model):\n",
        "  def __init__(self, vocab_size, embedding_dim, units):\n",
        "    super(Model, self).__init__()\n",
        "    self.units = units\n",
        "\n",
        "    self.embedding = tf.keras.layers.Embedding(vocab_size, embedding_dim)\n",
        "\n",
        "    if tf.test.is_gpu_available():\n",
        "      self.gru = tf.keras.layers.CuDNNGRU(self.units, \n",
        "                                          return_sequences=True, \n",
        "                                          return_state=True, \n",
        "                                          recurrent_initializer='glorot_uniform')\n",
        "    else:\n",
        "      self.gru = tf.keras.layers.GRU(self.units, \n",
        "                                     return_sequences=True, \n",
        "                                     return_state=True, \n",
        "                                     recurrent_activation='sigmoid', \n",
        "                                     recurrent_initializer='glorot_uniform')\n",
        "\n",
        "    self.fc = tf.keras.layers.Dense(vocab_size)\n",
        "        \n",
        "  def call(self, x, hidden):\n",
        "    embedding = self.embedding(x)\n",
        "    \n",
        "    # output at every time step\n",
        "    # output shape == (batch_size, seq_length, hidden_size) \n",
        "    # states variable to preserve the state of the model\n",
        "    # states shape == (batch_size, hidden_size)\n",
        "    output, states = self.gru(embedding, initial_state=hidden)\n",
        "    \n",
        "    # reshaping the output so that we can pass it to the Dense layer\n",
        "    # after reshaping the shape is (batch_size * seq_length, hidden_size)\n",
        "    output = tf.reshape(output, (-1, output.shape[2]))\n",
        "    \n",
        "    # The dense layer will output predictions for every time_steps(seq_length)\n",
        "    # output shape after the dense layer == (seq_length * batch_size, vocab_size)\n",
        "    prediction = self.fc(output)\n",
        "    \n",
        "    # states will be used to pass at every step to the model while training\n",
        "    return prediction, states"
      ],
      "execution_count": 0,
      "outputs": []
    },
    {
      "metadata": {
        "id": "trpqTWyvk0nr",
        "colab_type": "text"
      },
      "cell_type": "markdown",
      "source": [
        "### Instantiate the model, optimizer, and the loss function"
      ]
    },
    {
      "metadata": {
        "id": "7t2XrzEOzf-e",
        "colab_type": "code",
        "colab": {}
      },
      "cell_type": "code",
      "source": [
        "# Length of the vocabulary in chars\n",
        "vocab_size = len(vocab)\n",
        "\n",
        "# The embedding dimension \n",
        "embedding_dim = 256\n",
        "\n",
        "# Number of RNN units\n",
        "units = 1024\n",
        "\n",
        "model = Model(vocab_size, embedding_dim, units)"
      ],
      "execution_count": 0,
      "outputs": []
    },
    {
      "metadata": {
        "id": "jeOXriLcymww",
        "colab_type": "text"
      },
      "cell_type": "markdown",
      "source": [
        "We'll use [Adam optimizer](https://www.tensorflow.org/api_docs/python/tf/train/AdamOptimizer) with default arguments and [softmax cross entropy](https://www.tensorflow.org/api_docs/python/tf/losses/sparse_softmax_cross_entropy) as the loss function. This loss function is applicable because we're training to predict the next character and the number of characters is a discrete number, similar to a classification problem."
      ]
    },
    {
      "metadata": {
        "id": "dkjWIATszf-h",
        "colab_type": "code",
        "colab": {}
      },
      "cell_type": "code",
      "source": [
        "# Using adam optimizer with default arguments\n",
        "optimizer = tf.train.AdamOptimizer()\n",
        "\n",
        "# Using sparse_softmax_cross_entropy so that we don't have to create one-hot vectors\n",
        "def loss_function(real, preds):\n",
        "    return tf.losses.sparse_softmax_cross_entropy(labels=real, logits=preds)"
      ],
      "execution_count": 0,
      "outputs": []
    },
    {
      "metadata": {
        "id": "3K6s6F79P7za",
        "colab_type": "text"
      },
      "cell_type": "markdown",
      "source": [
        "### Checkpoints (Object-based saving)\n",
        "\n",
        "We'll use [tf.train.Checkpoint](https://www.tensorflow.org/api_docs/python/tf/train/Checkpoint) to save the weights of the model after a couple of epochs."
      ]
    },
    {
      "metadata": {
        "id": "oAGisDdfP9rL",
        "colab_type": "code",
        "colab": {}
      },
      "cell_type": "code",
      "source": [
        "# Directory where the checkpoints will be saved\n",
        "checkpoint_dir = './training_checkpoints'\n",
        "# Name of the checkpoint files\n",
        "checkpoint_prefix = os.path.join(checkpoint_dir, \"ckpt\")\n",
        "# Checkpoint instance\n",
        "checkpoint = tf.train.Checkpoint(optimizer=optimizer, model=model)"
      ],
      "execution_count": 0,
      "outputs": []
    },
    {
      "metadata": {
        "id": "lPrP0XMUzf-p",
        "colab_type": "text"
      },
      "cell_type": "markdown",
      "source": [
        "### Train the model\n",
        "\n",
        "Here we will use a custom training loop with the help of [GradientTape()](https://www.tensorflow.org/api_docs/python/tf/GradientTape). You can learn more about this approach by reading the eager execution [guide](https://www.tensorflow.org/guide/eager).\n",
        "\n",
        "* First, we initialize the hidden state of the model with zeros and shape == (batch_size, number of rnn units). We do this by calling the function defined while creating the model.\n",
        "\n",
        "* Next, we iterate over the dataset (batch by batch) and calculate the **predictions and the hidden states** associated with that input.\n",
        "\n",
        "* There are a lot of interesting things happening during training:\n",
        "  * The model gets hidden state (initialized with 0), lets call that **H0** and the first batch of input, lets call that **I0**.\n",
        "  * The model then returns the predictions **P1** and **H1**.\n",
        "  * For the next batch of input, the model receives **I1** and **H1**.\n",
        "  * The interesting thing here is that we pass **H1** to the model with **I1** which is how the model learns. The context learned from batch to batch is contained in the **hidden state**.\n",
        "  * We continue doing this until the dataset is exhausted and then we start a new epoch and repeat all the process.\n",
        "\n",
        "* After calculating the predictions, we calculate the **loss** using the loss function defined above. Then we calculate the gradients of the loss with respect to the model variables.\n",
        "\n",
        "* Finally, we take a step in that direction with the help of the optimizer using the apply_gradients function.\n",
        "\n",
        "Below is a diagram representing the process described above.\n",
        "\n",
        "![](https://drive.google.com/uc?export=view&id=1omAlyVeIgP4hk91pBwZTAGxxZ8TuTBqT)"
      ]
    },
    {
      "metadata": {
        "id": "d4tSNwymzf-q",
        "colab_type": "code",
        "colab": {}
      },
      "cell_type": "code",
      "source": [
        "# Training step\n",
        "EPOCHS = 30\n",
        "\n",
        "for epoch in range(EPOCHS):\n",
        "    start = time.time()\n",
        "    \n",
        "    # initializing the hidden state at the start of every epoch\n",
        "    # initally hidden is None\n",
        "    hidden = model.reset_states()\n",
        "    \n",
        "    for (batch, (inp, target)) in enumerate(dataset):\n",
        "          with tf.GradientTape() as tape:\n",
        "              # feeding the hidden state back into the model\n",
        "              # This is the interesting step\n",
        "              predictions, hidden = model(inp, hidden)\n",
        "              # reshaping the target because that's how the \n",
        "              # loss function expects it\n",
        "              target = tf.reshape(target, (-1,))\n",
        "              loss = loss_function(target, predictions)\n",
        "              \n",
        "          grads = tape.gradient(loss, model.variables)\n",
        "          optimizer.apply_gradients(zip(grads, model.variables))\n",
        "\n",
        "          if batch % 100 == 0:\n",
        "              print ('Epoch {} Batch {} Loss {:.4f}'.format(epoch+1,\n",
        "                                                            batch,\n",
        "                                                            loss))\n",
        "    # saving (checkpoint) the model every 5 epochs\n",
        "    if (epoch + 1) % 5 == 0:\n",
        "      checkpoint.save(file_prefix = checkpoint_prefix)\n",
        "\n",
        "    print ('Epoch {} Loss {:.4f}'.format(epoch+1, loss))\n",
        "    print ('Time taken for 1 epoch {} sec\\n'.format(time.time() - start))"
      ],
      "execution_count": 0,
      "outputs": []
    },
    {
      "metadata": {
        "id": "01AR9vpNQMFF",
        "colab_type": "text"
      },
      "cell_type": "markdown",
      "source": [
        "### Restore the latest checkpoint"
      ]
    },
    {
      "metadata": {
        "id": "tyvpYomYQQkF",
        "colab_type": "code",
        "colab": {}
      },
      "cell_type": "code",
      "source": [
        "# Restoring the latest checkpoint in checkpoint_dir\n",
        "checkpoint.restore(tf.train.latest_checkpoint(checkpoint_dir))"
      ],
      "execution_count": 0,
      "outputs": []
    },
    {
      "metadata": {
        "id": "DjGz1tDkzf-u",
        "colab_type": "text"
      },
      "cell_type": "markdown",
      "source": [
        "### Generate text using our trained model\n",
        "\n",
        "The below code block is used to generated the text\n",
        "\n",
        "* We start by choosing a start string, initializing the hidden state and setting the number of characters we want to generate.\n",
        "\n",
        "* We get predictions using the start string and the hidden state.\n",
        "\n",
        "* Then we use a multinomial distribution to calculate the index of the predicted character. **We use this predicted character as our next input to the model**.\n",
        "\n",
        "* **The hidden state returned by the model is fed back into the model so that it now has more context rather than just one word.** After we predict the next word, the modified hidden states are again fed back into the model, which is how it learns as it gets more context from the previously predicted words.\n",
        "\n",
        "\n",
        "![](https://drive.google.com/uc?export=view&id=1MeU-bnClsvknBWTCCPgbrCyGRoyaZf9k)\n",
        "\n",
        "If you look at the generated text, you'll see the model knows when to capitalize, make paragraphs and imitates a Shakespeare-like writing style."
      ]
    },
    {
      "metadata": {
        "id": "WvuwZBX5Ogfd",
        "colab_type": "code",
        "colab": {}
      },
      "cell_type": "code",
      "source": [
        "# Evaluation step (generating text using the learned model)\n",
        "\n",
        "# Number of characters to generate\n",
        "num_generate = 1000\n",
        "\n",
        "# You can change the start string to experiment\n",
        "start_string = 'Q'\n",
        "\n",
        "# Converting our start string to numbers (vectorizing) \n",
        "input_eval = [char2idx[s] for s in start_string]\n",
        "input_eval = tf.expand_dims(input_eval, 0)\n",
        "\n",
        "# Empty string to store our results\n",
        "text_generated = ''\n",
        "\n",
        "# Low temperatures results in more predictable text.\n",
        "# Higher temperatures results in more surprising text.\n",
        "# Experiment to find the best setting.\n",
        "temperature = 1.0\n",
        "\n",
        "# hidden state shape == (batch_size, number of rnn units); here batch size == 1\n",
        "hidden = [tf.zeros((1, units))]\n",
        "for i in range(num_generate):\n",
        "    predictions, hidden = model(input_eval, hidden)\n",
        "\n",
        "    # using a multinomial distribution to predict the word returned by the model\n",
        "    predictions = predictions / temperature\n",
        "    predicted_id = tf.multinomial(tf.exp(predictions), num_samples=1)[0][0].numpy()\n",
        "    \n",
        "    # We pass the predicted word as the next input to the model\n",
        "    # along with the previous hidden state\n",
        "    input_eval = tf.expand_dims([predicted_id], 0)\n",
        "    \n",
        "    text_generated += idx2char[predicted_id]\n",
        "\n",
        "print (start_string + text_generated)"
      ],
      "execution_count": 0,
      "outputs": []
    },
    {
      "metadata": {
        "id": "AM2Uma_-yVIq",
        "colab_type": "text"
      },
      "cell_type": "markdown",
      "source": [
        "## Next steps\n",
        "\n",
        "As a next step, consider training this model on your own data. \n",
        "* [Project  Gutenberg](http://www.gutenberg.org/ebooks/100) contains the text of many books.\n",
        "* Or, you might try training a model on the source code (HTML and Javascript) of your favorite webpage. \n",
        "\n",
        "You can also experiment with a different start character, or try adding another RNN layer to improve the model's accuracy, or adjusting the temperature parameter to generate more or less random predictions."
      ]
    },
    {
      "metadata": {
        "id": "FTSaxr55MpIH",
        "colab_type": "code",
        "colab": {}
      },
      "cell_type": "code",
      "source": [
        ""
      ],
      "execution_count": 0,
      "outputs": []
    }
  ]
}