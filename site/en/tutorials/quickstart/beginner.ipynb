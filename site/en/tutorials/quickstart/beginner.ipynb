импортировать тензорный поток как tf
из tensorflow.keras импорт наборов данных, слоев, моделей

# Загрузка и подготовка датасета CIFAR10
(train_images, train_labels), (test_images, test_labels) = datasets.cifar10.load_data()

# Нормализация результатов анализа
train_images, test_images = train_images/255.0, test_images/255.0

# Создание модели сварочной нейронной сети
модель = модели.Последовательный()
model.add(layers.Conv2D(32, (3, 3), активация = 'relu', input_shape = (32, 32, 3)))
model.add(layers.MaxPooling2D((2, 2)))
model.add(layers.Conv2D(64, (3, 3), активация = 'relu'))
model.add(layers.MaxPooling2D((2, 2)))
model.add(layers.Conv2D(64, (3, 3), активация = 'relu'))

#Добавление полносвязных слоев
model.add(layers.Flatten())
model.add(layers.Dense(64, активация='relu'))
model.add(layers.Dense(2))

# Компиляция и обучение моделей
model.compile(optimizer='adam',
              loss=tf.keras.losses.SparseCategoricalCrossentropy(from_logits=True),
              метрики=['точность'])

история = model.fit(train_images, train_labels, epochs=10,
                    validation_data=(test_images, test_labels))
